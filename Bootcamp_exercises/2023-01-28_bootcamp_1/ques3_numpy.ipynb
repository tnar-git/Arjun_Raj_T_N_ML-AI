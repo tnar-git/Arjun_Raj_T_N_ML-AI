{
 "cells": [
  {
   "cell_type": "code",
   "execution_count": 19,
   "id": "4395ffda",
   "metadata": {},
   "outputs": [],
   "source": [
    "import numpy as np "
   ]
  },
  {
   "cell_type": "code",
   "execution_count": 20,
   "id": "3710049b",
   "metadata": {},
   "outputs": [
    {
     "name": "stdout",
     "output_type": "stream",
     "text": [
      "[ 0  1  2  3  4  5  6  7  8  9 10 11 12 13 14]\n"
     ]
    }
   ],
   "source": [
    "## q1\n",
    "a=np.arange(15)\n",
    "print(a)"
   ]
  },
  {
   "cell_type": "code",
   "execution_count": 21,
   "id": "89769e04",
   "metadata": {},
   "outputs": [
    {
     "name": "stdout",
     "output_type": "stream",
     "text": [
      "[ 0  1  2  3  4  5  6  7  8  9 10 11 12 13 14]\n"
     ]
    }
   ],
   "source": [
    "##q2\n",
    "a=np.arange(15)\n",
    "print(a)"
   ]
  },
  {
   "cell_type": "code",
   "execution_count": 22,
   "id": "d008ae5d",
   "metadata": {},
   "outputs": [
    {
     "name": "stdout",
     "output_type": "stream",
     "text": [
      "[[ 0  1  2  3  4]\n",
      " [ 5  6  7  8  9]\n",
      " [10 11 12 13 14]]\n"
     ]
    }
   ],
   "source": [
    "##q3\n",
    "b=a.reshape((3,5))\n",
    "print(b)"
   ]
  },
  {
   "cell_type": "code",
   "execution_count": 23,
   "id": "1315231b",
   "metadata": {},
   "outputs": [
    {
     "data": {
      "text/plain": [
       "(15,)"
      ]
     },
     "execution_count": 23,
     "metadata": {},
     "output_type": "execute_result"
    }
   ],
   "source": [
    "##q4\n",
    "a.shape"
   ]
  },
  {
   "cell_type": "code",
   "execution_count": 24,
   "id": "c8b491b0",
   "metadata": {},
   "outputs": [
    {
     "data": {
      "text/plain": [
       "1"
      ]
     },
     "execution_count": 24,
     "metadata": {},
     "output_type": "execute_result"
    }
   ],
   "source": [
    "##q5\n",
    "a.ndim"
   ]
  },
  {
   "cell_type": "code",
   "execution_count": 25,
   "id": "51802b04",
   "metadata": {},
   "outputs": [
    {
     "data": {
      "text/plain": [
       "15"
      ]
     },
     "execution_count": 25,
     "metadata": {},
     "output_type": "execute_result"
    }
   ],
   "source": [
    "##q6\n",
    "a.size"
   ]
  },
  {
   "cell_type": "code",
   "execution_count": 26,
   "id": "c6ccc4d9",
   "metadata": {},
   "outputs": [
    {
     "data": {
      "text/plain": [
       "dtype('int64')"
      ]
     },
     "execution_count": 26,
     "metadata": {},
     "output_type": "execute_result"
    }
   ],
   "source": [
    "##q7\n",
    "a.dtype"
   ]
  },
  {
   "cell_type": "code",
   "execution_count": 27,
   "id": "390f1402",
   "metadata": {},
   "outputs": [
    {
     "data": {
      "text/plain": [
       "array([ 0.,  1.,  2.,  3.,  4.,  5.,  6.,  7.,  8.,  9., 10., 11., 12.,\n",
       "       13., 14.], dtype=float32)"
      ]
     },
     "execution_count": 27,
     "metadata": {},
     "output_type": "execute_result"
    }
   ],
   "source": [
    "##q8\n",
    "a.astype(np.float32)"
   ]
  },
  {
   "cell_type": "code",
   "execution_count": 28,
   "id": "1f5bbe6e",
   "metadata": {},
   "outputs": [
    {
     "name": "stdout",
     "output_type": "stream",
     "text": [
      "[[1. 1. 1. 1. 1.]\n",
      " [1. 1. 1. 1. 1.]\n",
      " [1. 1. 1. 1. 1.]]\n"
     ]
    }
   ],
   "source": [
    "##q9\n",
    "ones=np.ones((3,5))\n",
    "print(ones)"
   ]
  },
  {
   "cell_type": "code",
   "execution_count": 29,
   "id": "034e203b",
   "metadata": {},
   "outputs": [
    {
     "data": {
      "text/plain": [
       "array([[0., 0., 0., 0., 0.],\n",
       "       [0., 0., 0., 0., 0.],\n",
       "       [0., 0., 0., 0., 0.]])"
      ]
     },
     "execution_count": 29,
     "metadata": {},
     "output_type": "execute_result"
    }
   ],
   "source": [
    "## q10\n",
    "np.zeros((3,5))"
   ]
  },
  {
   "cell_type": "code",
   "execution_count": 30,
   "id": "485a6818",
   "metadata": {},
   "outputs": [
    {
     "data": {
      "text/plain": [
       "14"
      ]
     },
     "execution_count": 30,
     "metadata": {},
     "output_type": "execute_result"
    }
   ],
   "source": [
    "##q11\n",
    "a.max()"
   ]
  },
  {
   "cell_type": "code",
   "execution_count": 31,
   "id": "9591ef57",
   "metadata": {},
   "outputs": [
    {
     "data": {
      "text/plain": [
       "0"
      ]
     },
     "execution_count": 31,
     "metadata": {},
     "output_type": "execute_result"
    }
   ],
   "source": [
    "##q12\n",
    "a.min()"
   ]
  },
  {
   "cell_type": "code",
   "execution_count": 32,
   "id": "26cdd3b0",
   "metadata": {},
   "outputs": [
    {
     "data": {
      "text/plain": [
       "array([10, 35, 60])"
      ]
     },
     "execution_count": 32,
     "metadata": {},
     "output_type": "execute_result"
    }
   ],
   "source": [
    "### q13\n",
    "b.sum(axis=1)"
   ]
  },
  {
   "cell_type": "code",
   "execution_count": 33,
   "id": "569a541a",
   "metadata": {},
   "outputs": [
    {
     "data": {
      "text/plain": [
       "105"
      ]
     },
     "execution_count": 33,
     "metadata": {},
     "output_type": "execute_result"
    }
   ],
   "source": [
    "## q14\n",
    "b.sum()"
   ]
  },
  {
   "cell_type": "code",
   "execution_count": 62,
   "id": "53b82d9b",
   "metadata": {},
   "outputs": [
    {
     "name": "stdout",
     "output_type": "stream",
     "text": [
      "[array([[0, 1],\n",
      "       [2, 3]]), array([[4, 5],\n",
      "       [6, 7]])]\n"
     ]
    }
   ],
   "source": [
    "### q15 How can we split an array into multiple sub-arrays?\n",
    "# A. Using np.split\n",
    "\n",
    "'''\n",
    "numpy.split(ary, indices_or_sections, axis=0)[source]\n",
    "\n",
    "Split an array into multiple sub-arrays as views into ary.\n",
    "\n",
    "Parameters:\n",
    "\n",
    "    aryndarray\n",
    "\n",
    "        Array to be divided into sub-arrays.\n",
    "    indices_or_sectionsint or 1-D array\n",
    "\n",
    "        If indices_or_sections is an integer, N, the array will be divided into N equal arrays along axis. If such a split is not possible, an error is raised.\n",
    "\n",
    "        If indices_or_sections is a 1-D array of sorted integers, the entries indicate where along axis the array is split. For example, [2, 3] would, for axis=0, result in\n",
    "\n",
    "                ary[:2]\n",
    "\n",
    "                ary[2:3]\n",
    "\n",
    "                ary[3:]\n",
    "\n",
    "\n",
    "'''\n",
    "\n",
    "\n",
    "a15=np.arange(8)\n",
    "\n",
    "a15=a15.reshape((4,2))\n",
    "print(np.split(a15,2,axis=0))"
   ]
  },
  {
   "cell_type": "code",
   "execution_count": 35,
   "id": "3a735d97",
   "metadata": {},
   "outputs": [
    {
     "data": {
      "text/plain": [
       "array([[ 0,  1,  2,  3,  4,  5,  0,  1,  2,  3,  4,  5,  6,  7,  8,  9,\n",
       "        10, 11,  0,  1,  2],\n",
       "       [ 6,  7,  8,  9, 10, 11, 12, 13, 14, 15, 16, 17, 18, 19, 20, 21,\n",
       "        22, 23,  3,  4,  5],\n",
       "       [12, 13, 14, 15, 16, 17, 24, 25, 26, 27, 28, 29, 30, 31, 32, 33,\n",
       "        34, 35,  6,  7,  8],\n",
       "       [18, 19, 20, 21, 22, 23, 36, 37, 38, 39, 40, 41, 42, 43, 44, 45,\n",
       "        46, 47,  9, 10, 11]])"
      ]
     },
     "execution_count": 35,
     "metadata": {},
     "output_type": "execute_result"
    }
   ],
   "source": [
    "### q16 How can we concatenate multiple arrays?\n",
    "c=np.arange(24)\n",
    "d=np.arange(48)\n",
    "e=np.arange(12)\n",
    "c1=c.reshape((4,-1))\n",
    "c2=d.reshape((4,-1))\n",
    "c3=e.reshape((4,-1))\n",
    "np.concatenate((c1,c2,c3),axis=1)"
   ]
  },
  {
   "cell_type": "code",
   "execution_count": 52,
   "id": "cef7f0fc",
   "metadata": {},
   "outputs": [
    {
     "name": "stdout",
     "output_type": "stream",
     "text": [
      "vertical stack:- \n",
      " [[[ 1  2  3]\n",
      "  [ 4  5  6]]\n",
      "\n",
      " [[ 7  8  9]\n",
      "  [10 11 12]]]\n",
      "horizontal stack:- \n",
      " [[[ 1  7]\n",
      "  [ 2  8]\n",
      "  [ 3  9]]\n",
      "\n",
      " [[ 4 10]\n",
      "  [ 5 11]\n",
      "  [ 6 12]]]\n"
     ]
    }
   ],
   "source": [
    "### q17 How can we stack arrays vertically or horizontally?\n",
    "\n",
    "\n",
    "a = np.array([[1, 2, 3],[4, 5, 6]])\n",
    "\n",
    "b = np.array([[7,8,9],[10,11,12]])\n",
    "## vertical stacking of 2 d arrays along the newly created 3rd axis\n",
    "\n",
    "print('vertical stack:- \\n',np.stack((a,b),axis=0))\n",
    "\n",
    "### horizontal stacking of 2d arrays along the column axis\n",
    "\n",
    "print('horizontal stack:- \\n',np.stack((a,b),axis=2))\n",
    "\n"
   ]
  },
  {
   "cell_type": "code",
   "execution_count": 58,
   "id": "ca42c022",
   "metadata": {},
   "outputs": [
    {
     "name": "stdout",
     "output_type": "stream",
     "text": [
      "719\n",
      "[[ 90 162]\n",
      " [ 98 170]]\n"
     ]
    }
   ],
   "source": [
    "### q18. How can we extract specific elements or sub-arrays from an array?\n",
    "## A. use selection brackets\n",
    "a18=np.arange(4*5*8*9)\n",
    "a18=a18.reshape((4,5,8,9))\n",
    "# print(a18)\n",
    "\n",
    "### select the element at the some random index :-\n",
    "print(a18[1,4,7,8])\n",
    "\n",
    "### subarray formed by 1st and 9nth column and 3rd row \n",
    "## of the 2d matrices of index 1 to 3 in the 0 index 3d matrix \n",
    "## contained in the outer most 4d matrix is given by:-\n",
    "\n",
    "print(a18[0,1:3,2,[0,8]])"
   ]
  },
  {
   "cell_type": "code",
   "execution_count": 60,
   "id": "b8f43298",
   "metadata": {},
   "outputs": [
    {
     "name": "stdout",
     "output_type": "stream",
     "text": [
      "[[[[   0    1    2 ...    6    7    8]\n",
      "   [   9   10   11 ...   15   16   17]\n",
      "   [  18   19   20 ...   24   25   26]\n",
      "   ...\n",
      "   [  45   46   47 ...   51   52   53]\n",
      "   [  54   55   56 ...   60   61   62]\n",
      "   [  63   64   65 ...   69   70   71]]\n",
      "\n",
      "  [[  72   73   74 ...   78   79   80]\n",
      "   [  81   82   83 ...   87   88   89]\n",
      "   [  90   91   92 ...   96   97   98]\n",
      "   ...\n",
      "   [ 117  118  119 ...  123  124  125]\n",
      "   [ 126  127  128 ...  132  133  134]\n",
      "   [ 135  136  137 ...  141  142  143]]\n",
      "\n",
      "  [[ 144  145  146 ...  150  151  152]\n",
      "   [ 153  154  155 ...  159  160  161]\n",
      "   [ 162  163  164 ...  168  169  170]\n",
      "   ...\n",
      "   [ 189  190  191 ...  195  196  197]\n",
      "   [ 198  199  200 ...  204  205  206]\n",
      "   [ 207  208  209 ...  213  214  215]]\n",
      "\n",
      "  [[ 216  217  218 ...  222  223  224]\n",
      "   [ 225  226  227 ...  231  232  233]\n",
      "   [ 234  235  236 ...  240  241  242]\n",
      "   ...\n",
      "   [ 261  262  263 ...  267  268  269]\n",
      "   [ 270  271  272 ...  276  277  278]\n",
      "   [ 279  280  281 ...  285  286  287]]\n",
      "\n",
      "  [[ 288  289  290 ...  294  295  296]\n",
      "   [ 297  298  299 ...  303  304  305]\n",
      "   [ 306  307  308 ...  312  313  314]\n",
      "   ...\n",
      "   [ 333  334  335 ...  339  340  341]\n",
      "   [ 342  343  344 ...  348  349  350]\n",
      "   [ 351  352  353 ...  357  358  359]]]\n",
      "\n",
      "\n",
      " [[[ 360  361  362 ...  366  367  368]\n",
      "   [ 369  370  371 ...  375  376  377]\n",
      "   [ 378  379  380 ...  384  385  386]\n",
      "   ...\n",
      "   [ 405  406  407 ...  411  412  413]\n",
      "   [ 414  415  416 ...  420  421  422]\n",
      "   [ 423  424  425 ...  429  430  431]]\n",
      "\n",
      "  [[ 432  433  434 ...  438  439  440]\n",
      "   [ 441  442  443 ...  447  448  449]\n",
      "   [ 450  451  452 ...  456  457  458]\n",
      "   ...\n",
      "   [ 477  478  479 ...  483  484  485]\n",
      "   [ 486  487  488 ...  492  493  494]\n",
      "   [ 495  496  497 ...  501  502  503]]\n",
      "\n",
      "  [[ 504  505  506 ...  510  511  512]\n",
      "   [ 513  514  515 ...  519  520  521]\n",
      "   [ 522  523  524 ...  528  529  530]\n",
      "   ...\n",
      "   [ 549  550  551 ...  555  556  557]\n",
      "   [ 558  559  560 ...  564  565  566]\n",
      "   [ 567  568  569 ...  573  574  575]]\n",
      "\n",
      "  [[ 576  577  578 ...  582  583  584]\n",
      "   [ 585  586  587 ...  591  592  593]\n",
      "   [ 594  595  596 ...  600  601  602]\n",
      "   ...\n",
      "   [ 621  622  623 ...  627  628  629]\n",
      "   [ 630  631  632 ...  636  637  638]\n",
      "   [ 639  640  641 ...  645  646  647]]\n",
      "\n",
      "  [[ 648  649  650 ...  654  655  656]\n",
      "   [ 657  658  659 ...  663  664  665]\n",
      "   [ 666  667  668 ...  672  673  674]\n",
      "   ...\n",
      "   [ 693  694  695 ...  699  700  701]\n",
      "   [ 702  703  704 ...  708  709  710]\n",
      "   [ 711  712  713 ...  717  718  719]]]\n",
      "\n",
      "\n",
      " [[[ 720  721  722 ...  726  727  728]\n",
      "   [ 729  730  731 ...  735  736  737]\n",
      "   [ 738  739  740 ...  744  745  746]\n",
      "   ...\n",
      "   [ 765  766  767 ...  771  772  773]\n",
      "   [ 774  775  776 ...  780  781  782]\n",
      "   [ 783  784  785 ...  789  790  791]]\n",
      "\n",
      "  [[ 792  793  794 ...  798  799  800]\n",
      "   [ 801  802  803 ...  807  808  809]\n",
      "   [ 810  811  812 ...  816  817  818]\n",
      "   ...\n",
      "   [ 837  838  839 ...  843  844  845]\n",
      "   [ 846  847  848 ...  852  853  854]\n",
      "   [ 855  856  857 ...  861  862  863]]\n",
      "\n",
      "  [[ 864  865  866 ...  870  871  872]\n",
      "   [ 873  874  875 ...  879  880  881]\n",
      "   [ 882  883  884 ...  888  889  890]\n",
      "   ...\n",
      "   [ 909  910  911 ...  915  916  917]\n",
      "   [ 918  919  920 ...  924  925  926]\n",
      "   [ 927  928  929 ...  933  934  935]]\n",
      "\n",
      "  [[ 936  937  938 ...  942  943  944]\n",
      "   [ 945  946  947 ...  951  952  953]\n",
      "   [ 954  955  956 ...  960  961  962]\n",
      "   ...\n",
      "   [ 981  982  983 ...  987  988  989]\n",
      "   [ 990  991  992 ...  996  997  998]\n",
      "   [ 999 1000 1001 ... 1005 1006 1007]]\n",
      "\n",
      "  [[1008 1009 1010 ... 1014 1015 1016]\n",
      "   [1017 1018 1019 ... 1023 1024 1025]\n",
      "   [1026 1027 1028 ... 1032 1033 1034]\n",
      "   ...\n",
      "   [1053 1054 1055 ... 1059 1060 1061]\n",
      "   [1062 1063 1064 ... 1068 1069 1070]\n",
      "   [1071 1072 1073 ... 1077 1078 1079]]]\n",
      "\n",
      "\n",
      " [[[1080 1081 1082 ... 1086 1087 1088]\n",
      "   [1089 1090 1091 ... 1095 1096 1097]\n",
      "   [1098 1099 1100 ... 1104 1105 1106]\n",
      "   ...\n",
      "   [1125 1126 1127 ... 1131 1132 1133]\n",
      "   [1134 1135 1136 ... 1140 1141 1142]\n",
      "   [1143 1144 1145 ... 1149 1150 1151]]\n",
      "\n",
      "  [[1152 1153 1154 ... 1158 1159 1160]\n",
      "   [1161 1162 1163 ... 1167 1168 1169]\n",
      "   [1170 1171 1172 ... 1176 1177 1178]\n",
      "   ...\n",
      "   [1197 1198 1199 ... 1203 1204 1205]\n",
      "   [1206 1207 1208 ... 1212 1213 1214]\n",
      "   [1215 1216 1217 ... 1221 1222 1223]]\n",
      "\n",
      "  [[1224 1225 1226 ... 1230 1231 1232]\n",
      "   [1233 1234 1235 ... 1239 1240 1241]\n",
      "   [1242 1243 1244 ... 1248 1249 1250]\n",
      "   ...\n",
      "   [1269 1270 1271 ... 1275 1276 1277]\n",
      "   [1278 1279 1280 ... 1284 1285 1286]\n",
      "   [1287 1288 1289 ... 1293 1294 1295]]\n",
      "\n",
      "  [[1296 1297 1298 ... 1302 1303 1304]\n",
      "   [1305 1306 1307 ... 1311 1312 1313]\n",
      "   [1314 1315 1316 ... 1320 1321 1322]\n",
      "   ...\n",
      "   [1341 1342 1343 ... 1347 1348 1349]\n",
      "   [1350 1351 1352 ... 1356 1357 1358]\n",
      "   [1359 1360 1361 ... 1365 1366 1367]]\n",
      "\n",
      "  [[1368 1369 1370 ... 1374 1375 1376]\n",
      "   [1377 1378 1379 ... 1383 1384 1385]\n",
      "   [1386 1387 1388 ... 1392 1393 1394]\n",
      "   ...\n",
      "   [1413 1414 1415 ... 1419 1420 1421]\n",
      "   [1422 1423 1424 ... 1428 1429 1430]\n",
      "   [1431 1432 1433 ... 1437 1438 1439]]]]\n"
     ]
    }
   ],
   "source": [
    "### q19 How can we create a copy of an array?\n",
    "a19=a18.copy()\n",
    "print(a19)"
   ]
  },
  {
   "cell_type": "code",
   "execution_count": 65,
   "id": "52483354",
   "metadata": {},
   "outputs": [
    {
     "data": {
      "text/plain": [
       "array([0, 1, 2, 3, 4, 5, 6, 7])"
      ]
     },
     "execution_count": 65,
     "metadata": {},
     "output_type": "execute_result"
    }
   ],
   "source": [
    "## q20 How can we find the unique elements of an array?\n",
    "###  use np.unique\n",
    "a20=np.arange(8)\n",
    "a20=a20.reshape((2,4))\n",
    "a20=np.concatenate(a20,axis=0)\n",
    "np.unique(a20)"
   ]
  },
  {
   "cell_type": "code",
   "execution_count": 69,
   "id": "e84cd0b6",
   "metadata": {},
   "outputs": [
    {
     "name": "stdout",
     "output_type": "stream",
     "text": [
      "[0 1 2 3 4 5 6 7]\n",
      "[]\n",
      "[   8    9   10 ... 1437 1438 1439]\n"
     ]
    }
   ],
   "source": [
    "### q21 How can we find the intersection or difference of two arrays?\n",
    "print(np.intersect1d(a20,a19))\n",
    "print(np.setdiff1d(a20,a19) )## no output because all elements of a20 are also there in a19 \n",
    "print(np.setdiff1d(a19,a20))"
   ]
  },
  {
   "cell_type": "code",
   "execution_count": 71,
   "id": "6b229931",
   "metadata": {},
   "outputs": [
    {
     "name": "stdout",
     "output_type": "stream",
     "text": [
      "[False False False False False False  True  True]\n"
     ]
    }
   ],
   "source": [
    "## q22 How can we find the boolean index of an array based on a certain condition?\n",
    "\n",
    "a22=a20 > 5\n",
    "\n",
    "\n",
    "print(a22)\n"
   ]
  },
  {
   "cell_type": "code",
   "execution_count": 73,
   "id": "f4c13cf4",
   "metadata": {},
   "outputs": [
    {
     "data": {
      "text/plain": [
       "array([ 0.        ,  0.84147098,  0.90929743,  0.14112001, -0.7568025 ,\n",
       "       -0.95892427, -0.2794155 ,  0.6569866 ])"
      ]
     },
     "execution_count": 73,
     "metadata": {},
     "output_type": "execute_result"
    }
   ],
   "source": [
    "### q23 How can we apply mathematical functions to all elements of an array?\n",
    "## A. most numpy mathematical functions do the operation element-wise for every element of the array that is given as its argument\n",
    "## eg.\n",
    "np.sin(a20)"
   ]
  },
  {
   "cell_type": "code",
   "execution_count": null,
   "id": "3e115ff0",
   "metadata": {},
   "outputs": [],
   "source": []
  }
 ],
 "metadata": {
  "kernelspec": {
   "display_name": "Python 3 (ipykernel)",
   "language": "python",
   "name": "python3"
  },
  "language_info": {
   "codemirror_mode": {
    "name": "ipython",
    "version": 3
   },
   "file_extension": ".py",
   "mimetype": "text/x-python",
   "name": "python",
   "nbconvert_exporter": "python",
   "pygments_lexer": "ipython3",
   "version": "3.9.13"
  }
 },
 "nbformat": 4,
 "nbformat_minor": 5
}

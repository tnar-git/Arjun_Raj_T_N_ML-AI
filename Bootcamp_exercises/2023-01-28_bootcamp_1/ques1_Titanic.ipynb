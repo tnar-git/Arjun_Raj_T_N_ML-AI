{
 "cells": [
  {
   "cell_type": "code",
   "execution_count": 92,
   "id": "6492c0c5",
   "metadata": {},
   "outputs": [],
   "source": [
    "import pandas as pd \n",
    "import numpy as np \n",
    "from matplotlib import pyplot as plt\n"
   ]
  },
  {
   "cell_type": "code",
   "execution_count": 93,
   "id": "a3065f74",
   "metadata": {},
   "outputs": [
    {
     "data": {
      "text/html": [
       "<div>\n",
       "<style scoped>\n",
       "    .dataframe tbody tr th:only-of-type {\n",
       "        vertical-align: middle;\n",
       "    }\n",
       "\n",
       "    .dataframe tbody tr th {\n",
       "        vertical-align: top;\n",
       "    }\n",
       "\n",
       "    .dataframe thead th {\n",
       "        text-align: right;\n",
       "    }\n",
       "</style>\n",
       "<table border=\"1\" class=\"dataframe\">\n",
       "  <thead>\n",
       "    <tr style=\"text-align: right;\">\n",
       "      <th></th>\n",
       "      <th>PassengerId</th>\n",
       "      <th>Survived</th>\n",
       "      <th>Pclass</th>\n",
       "      <th>Name</th>\n",
       "      <th>Sex</th>\n",
       "      <th>Age</th>\n",
       "      <th>SibSp</th>\n",
       "      <th>Parch</th>\n",
       "      <th>Ticket</th>\n",
       "      <th>Fare</th>\n",
       "      <th>Cabin</th>\n",
       "      <th>Embarked</th>\n",
       "    </tr>\n",
       "  </thead>\n",
       "  <tbody>\n",
       "    <tr>\n",
       "      <th>0</th>\n",
       "      <td>1</td>\n",
       "      <td>0</td>\n",
       "      <td>3</td>\n",
       "      <td>Braund, Mr. Owen Harris</td>\n",
       "      <td>male</td>\n",
       "      <td>22.0</td>\n",
       "      <td>1</td>\n",
       "      <td>0</td>\n",
       "      <td>A/5 21171</td>\n",
       "      <td>7.2500</td>\n",
       "      <td>NaN</td>\n",
       "      <td>S</td>\n",
       "    </tr>\n",
       "    <tr>\n",
       "      <th>1</th>\n",
       "      <td>2</td>\n",
       "      <td>1</td>\n",
       "      <td>1</td>\n",
       "      <td>Cumings, Mrs. John Bradley (Florence Briggs Th...</td>\n",
       "      <td>female</td>\n",
       "      <td>38.0</td>\n",
       "      <td>1</td>\n",
       "      <td>0</td>\n",
       "      <td>PC 17599</td>\n",
       "      <td>71.2833</td>\n",
       "      <td>C85</td>\n",
       "      <td>C</td>\n",
       "    </tr>\n",
       "    <tr>\n",
       "      <th>2</th>\n",
       "      <td>3</td>\n",
       "      <td>1</td>\n",
       "      <td>3</td>\n",
       "      <td>Heikkinen, Miss. Laina</td>\n",
       "      <td>female</td>\n",
       "      <td>26.0</td>\n",
       "      <td>0</td>\n",
       "      <td>0</td>\n",
       "      <td>STON/O2. 3101282</td>\n",
       "      <td>7.9250</td>\n",
       "      <td>NaN</td>\n",
       "      <td>S</td>\n",
       "    </tr>\n",
       "    <tr>\n",
       "      <th>3</th>\n",
       "      <td>4</td>\n",
       "      <td>1</td>\n",
       "      <td>1</td>\n",
       "      <td>Futrelle, Mrs. Jacques Heath (Lily May Peel)</td>\n",
       "      <td>female</td>\n",
       "      <td>35.0</td>\n",
       "      <td>1</td>\n",
       "      <td>0</td>\n",
       "      <td>113803</td>\n",
       "      <td>53.1000</td>\n",
       "      <td>C123</td>\n",
       "      <td>S</td>\n",
       "    </tr>\n",
       "    <tr>\n",
       "      <th>4</th>\n",
       "      <td>5</td>\n",
       "      <td>0</td>\n",
       "      <td>3</td>\n",
       "      <td>Allen, Mr. William Henry</td>\n",
       "      <td>male</td>\n",
       "      <td>35.0</td>\n",
       "      <td>0</td>\n",
       "      <td>0</td>\n",
       "      <td>373450</td>\n",
       "      <td>8.0500</td>\n",
       "      <td>NaN</td>\n",
       "      <td>S</td>\n",
       "    </tr>\n",
       "    <tr>\n",
       "      <th>...</th>\n",
       "      <td>...</td>\n",
       "      <td>...</td>\n",
       "      <td>...</td>\n",
       "      <td>...</td>\n",
       "      <td>...</td>\n",
       "      <td>...</td>\n",
       "      <td>...</td>\n",
       "      <td>...</td>\n",
       "      <td>...</td>\n",
       "      <td>...</td>\n",
       "      <td>...</td>\n",
       "      <td>...</td>\n",
       "    </tr>\n",
       "    <tr>\n",
       "      <th>886</th>\n",
       "      <td>887</td>\n",
       "      <td>0</td>\n",
       "      <td>2</td>\n",
       "      <td>Montvila, Rev. Juozas</td>\n",
       "      <td>male</td>\n",
       "      <td>27.0</td>\n",
       "      <td>0</td>\n",
       "      <td>0</td>\n",
       "      <td>211536</td>\n",
       "      <td>13.0000</td>\n",
       "      <td>NaN</td>\n",
       "      <td>S</td>\n",
       "    </tr>\n",
       "    <tr>\n",
       "      <th>887</th>\n",
       "      <td>888</td>\n",
       "      <td>1</td>\n",
       "      <td>1</td>\n",
       "      <td>Graham, Miss. Margaret Edith</td>\n",
       "      <td>female</td>\n",
       "      <td>19.0</td>\n",
       "      <td>0</td>\n",
       "      <td>0</td>\n",
       "      <td>112053</td>\n",
       "      <td>30.0000</td>\n",
       "      <td>B42</td>\n",
       "      <td>S</td>\n",
       "    </tr>\n",
       "    <tr>\n",
       "      <th>888</th>\n",
       "      <td>889</td>\n",
       "      <td>0</td>\n",
       "      <td>3</td>\n",
       "      <td>Johnston, Miss. Catherine Helen \"Carrie\"</td>\n",
       "      <td>female</td>\n",
       "      <td>NaN</td>\n",
       "      <td>1</td>\n",
       "      <td>2</td>\n",
       "      <td>W./C. 6607</td>\n",
       "      <td>23.4500</td>\n",
       "      <td>NaN</td>\n",
       "      <td>S</td>\n",
       "    </tr>\n",
       "    <tr>\n",
       "      <th>889</th>\n",
       "      <td>890</td>\n",
       "      <td>1</td>\n",
       "      <td>1</td>\n",
       "      <td>Behr, Mr. Karl Howell</td>\n",
       "      <td>male</td>\n",
       "      <td>26.0</td>\n",
       "      <td>0</td>\n",
       "      <td>0</td>\n",
       "      <td>111369</td>\n",
       "      <td>30.0000</td>\n",
       "      <td>C148</td>\n",
       "      <td>C</td>\n",
       "    </tr>\n",
       "    <tr>\n",
       "      <th>890</th>\n",
       "      <td>891</td>\n",
       "      <td>0</td>\n",
       "      <td>3</td>\n",
       "      <td>Dooley, Mr. Patrick</td>\n",
       "      <td>male</td>\n",
       "      <td>32.0</td>\n",
       "      <td>0</td>\n",
       "      <td>0</td>\n",
       "      <td>370376</td>\n",
       "      <td>7.7500</td>\n",
       "      <td>NaN</td>\n",
       "      <td>Q</td>\n",
       "    </tr>\n",
       "  </tbody>\n",
       "</table>\n",
       "<p>891 rows × 12 columns</p>\n",
       "</div>"
      ],
      "text/plain": [
       "     PassengerId  Survived  Pclass  \\\n",
       "0              1         0       3   \n",
       "1              2         1       1   \n",
       "2              3         1       3   \n",
       "3              4         1       1   \n",
       "4              5         0       3   \n",
       "..           ...       ...     ...   \n",
       "886          887         0       2   \n",
       "887          888         1       1   \n",
       "888          889         0       3   \n",
       "889          890         1       1   \n",
       "890          891         0       3   \n",
       "\n",
       "                                                  Name     Sex   Age  SibSp  \\\n",
       "0                              Braund, Mr. Owen Harris    male  22.0      1   \n",
       "1    Cumings, Mrs. John Bradley (Florence Briggs Th...  female  38.0      1   \n",
       "2                               Heikkinen, Miss. Laina  female  26.0      0   \n",
       "3         Futrelle, Mrs. Jacques Heath (Lily May Peel)  female  35.0      1   \n",
       "4                             Allen, Mr. William Henry    male  35.0      0   \n",
       "..                                                 ...     ...   ...    ...   \n",
       "886                              Montvila, Rev. Juozas    male  27.0      0   \n",
       "887                       Graham, Miss. Margaret Edith  female  19.0      0   \n",
       "888           Johnston, Miss. Catherine Helen \"Carrie\"  female   NaN      1   \n",
       "889                              Behr, Mr. Karl Howell    male  26.0      0   \n",
       "890                                Dooley, Mr. Patrick    male  32.0      0   \n",
       "\n",
       "     Parch            Ticket     Fare Cabin Embarked  \n",
       "0        0         A/5 21171   7.2500   NaN        S  \n",
       "1        0          PC 17599  71.2833   C85        C  \n",
       "2        0  STON/O2. 3101282   7.9250   NaN        S  \n",
       "3        0            113803  53.1000  C123        S  \n",
       "4        0            373450   8.0500   NaN        S  \n",
       "..     ...               ...      ...   ...      ...  \n",
       "886      0            211536  13.0000   NaN        S  \n",
       "887      0            112053  30.0000   B42        S  \n",
       "888      2        W./C. 6607  23.4500   NaN        S  \n",
       "889      0            111369  30.0000  C148        C  \n",
       "890      0            370376   7.7500   NaN        Q  \n",
       "\n",
       "[891 rows x 12 columns]"
      ]
     },
     "execution_count": 93,
     "metadata": {},
     "output_type": "execute_result"
    }
   ],
   "source": [
    "# df=pd.read_csv('Titanic.csv')\n",
    "csv_file='Titanic.csv'\n",
    "df=pd.read_csv(csv_file)\n",
    "\n",
    "df"
   ]
  },
  {
   "cell_type": "code",
   "execution_count": 94,
   "id": "95288718",
   "metadata": {},
   "outputs": [
    {
     "data": {
      "text/plain": [
       "(891, 12)"
      ]
     },
     "execution_count": 94,
     "metadata": {},
     "output_type": "execute_result"
    }
   ],
   "source": [
    "### q1 what is the shape of the dataset?\n",
    "df.shape"
   ]
  },
  {
   "cell_type": "code",
   "execution_count": 95,
   "id": "41ebd98e",
   "metadata": {},
   "outputs": [
    {
     "data": {
      "text/plain": [
       "PassengerId      int64\n",
       "Survived         int64\n",
       "Pclass           int64\n",
       "Name            object\n",
       "Sex             object\n",
       "Age            float64\n",
       "SibSp            int64\n",
       "Parch            int64\n",
       "Ticket          object\n",
       "Fare           float64\n",
       "Cabin           object\n",
       "Embarked        object\n",
       "dtype: object"
      ]
     },
     "execution_count": 95,
     "metadata": {},
     "output_type": "execute_result"
    }
   ],
   "source": [
    "### q2. what are the different data types in the dataset?\n",
    "\n",
    "df.dtypes\n",
    "\n"
   ]
  },
  {
   "cell_type": "code",
   "execution_count": 96,
   "id": "18054527",
   "metadata": {},
   "outputs": [
    {
     "name": "stdout",
     "output_type": "stream",
     "text": [
      "There are many missing values in the data set in some columns. \n",
      "The number of missing values in each column are given below :-\n",
      "PassengerId      0\n",
      "Survived         0\n",
      "Pclass           0\n",
      "Name             0\n",
      "Sex              0\n",
      "Age            177\n",
      "SibSp            0\n",
      "Parch            0\n",
      "Ticket           0\n",
      "Fare             0\n",
      "Cabin          687\n",
      "Embarked         2\n",
      "dtype: int64\n"
     ]
    }
   ],
   "source": [
    "## q3. Are there any missing or null values in the dataset?\n",
    "\n",
    "print('There are many missing values in the data set in some columns. \\nThe number of missing values in each column are given below :-')\n",
    "print(pd.Series([df.shape[0] for i in range(df.shape[1])],index=df.columns) - df.count(axis=0))"
   ]
  },
  {
   "cell_type": "code",
   "execution_count": 97,
   "id": "d939ee8f",
   "metadata": {},
   "outputs": [
    {
     "name": "stdout",
     "output_type": "stream",
     "text": [
      "Mean is :-\n",
      "\n",
      "PassengerId    446.000000\n",
      "Survived         0.383838\n",
      "Pclass           2.308642\n",
      "Age             29.699118\n",
      "SibSp            0.523008\n",
      "Parch            0.381594\n",
      "Fare            32.204208\n",
      "dtype: float64\n",
      "\n",
      "Median is :-\n",
      "\n",
      "PassengerId    446.0000\n",
      "Survived         0.0000\n",
      "Pclass           3.0000\n",
      "Age             28.0000\n",
      "SibSp            0.0000\n",
      "Parch            0.0000\n",
      "Fare            14.4542\n",
      "dtype: float64\n",
      "most common values in the respective columns are :-\n",
      "\n",
      "Survived     0.00\n",
      "Pclass       3.00\n",
      "Age         24.00\n",
      "SibSp        0.00\n",
      "Parch        0.00\n",
      "Fare         8.05\n",
      "Name: 0, dtype: float64\n"
     ]
    }
   ],
   "source": [
    "### q4 What are the statistics (mean, median, mode) of the numerical columns?\n",
    "\n",
    "print('''Mean is :-\\n''')\n",
    "print(df.mean(numeric_only=True))\n",
    "print('''\\nMedian is :-\\n''')\n",
    "print(df.median(numeric_only=True))\n",
    "\n",
    "\n",
    "def display_modes_of_each_df_column(df,numeric_only_var=False):\n",
    "    print('most common values in the respective columns are :-\\n')\n",
    "\n",
    "    ### remove columns that have all entries unique\n",
    "\n",
    "    mode_df=df.mode(axis=0,numeric_only=numeric_only_var)\n",
    "    for col in mode_df.columns:\n",
    "        if len(mode_df[col].dropna())==len(df[col]):\n",
    "            mode_df.drop(columns=col,inplace=True)\n",
    "    new_mode_df=mode_df.mode(axis=0,numeric_only=numeric_only_var)\n",
    "\n",
    "\n",
    "\n",
    "    \n",
    "    if not new_mode_df.shape[0]==1:\n",
    "        ### nuanced way for when there multiple modes\n",
    "        for col in new_mode_df.columns:\n",
    "            modes_in_col_series=new_mode_df[col].dropna()\n",
    "            modes_list=[mode for mode in modes_in_col_series]\n",
    "\n",
    "            if len(modes_list) >1:\n",
    "                print('most common values in ' ,col, ' are ',end='')\n",
    "                for i in range(len(modes_list)-1):\n",
    "                    print(modes_list[i],', '  )\n",
    "                print(modes_list[len(modes_list)-1], end='\\n')\n",
    "            else:\n",
    "                print('most common value in ' ,col, ' is ',end='')\n",
    "                print(modes_list[0],end='\\n')\n",
    "    else:\n",
    "        ### easy way\n",
    "        print(new_mode_df.iloc[0,:])\n",
    "    return None\n",
    "        \n",
    "display_modes_of_each_df_column(df,numeric_only_var=True)\n",
    "\n"
   ]
  },
  {
   "cell_type": "code",
   "execution_count": 98,
   "id": "dc8c846d",
   "metadata": {},
   "outputs": [
    {
     "data": {
      "text/html": [
       "<div>\n",
       "<style scoped>\n",
       "    .dataframe tbody tr th:only-of-type {\n",
       "        vertical-align: middle;\n",
       "    }\n",
       "\n",
       "    .dataframe tbody tr th {\n",
       "        vertical-align: top;\n",
       "    }\n",
       "\n",
       "    .dataframe thead th {\n",
       "        text-align: right;\n",
       "    }\n",
       "</style>\n",
       "<table border=\"1\" class=\"dataframe\">\n",
       "  <thead>\n",
       "    <tr style=\"text-align: right;\">\n",
       "      <th></th>\n",
       "      <th>Name</th>\n",
       "      <th>Sex</th>\n",
       "      <th>Ticket</th>\n",
       "      <th>Cabin</th>\n",
       "      <th>Embarked</th>\n",
       "    </tr>\n",
       "  </thead>\n",
       "  <tbody>\n",
       "    <tr>\n",
       "      <th>unique</th>\n",
       "      <td>891</td>\n",
       "      <td>2</td>\n",
       "      <td>681</td>\n",
       "      <td>147</td>\n",
       "      <td>3</td>\n",
       "    </tr>\n",
       "    <tr>\n",
       "      <th>freq</th>\n",
       "      <td>1</td>\n",
       "      <td>577</td>\n",
       "      <td>7</td>\n",
       "      <td>4</td>\n",
       "      <td>644</td>\n",
       "    </tr>\n",
       "  </tbody>\n",
       "</table>\n",
       "</div>"
      ],
      "text/plain": [
       "       Name  Sex Ticket Cabin Embarked\n",
       "unique  891    2    681   147        3\n",
       "freq      1  577      7     4      644"
      ]
     },
     "execution_count": 98,
     "metadata": {},
     "output_type": "execute_result"
    }
   ],
   "source": [
    "## q5 What are the unique values and frequencies of the categorical columns?\n",
    "\n",
    "\n",
    "\n",
    "\n",
    "# np.argwhere(boolmat==True)\n",
    "\n",
    "desc_df=df.describe(include='all')\n",
    "\n",
    "desc_df.loc[['unique','freq'],:].dropna(axis=1)\n",
    "# desc_df"
   ]
  },
  {
   "cell_type": "code",
   "execution_count": 99,
   "id": "38f72bcb",
   "metadata": {},
   "outputs": [
    {
     "data": {
      "text/plain": [
       "array([[<AxesSubplot:title={'center':'PassengerId'}>,\n",
       "        <AxesSubplot:title={'center':'Survived'}>,\n",
       "        <AxesSubplot:title={'center':'Pclass'}>],\n",
       "       [<AxesSubplot:title={'center':'Age'}>,\n",
       "        <AxesSubplot:title={'center':'SibSp'}>,\n",
       "        <AxesSubplot:title={'center':'Parch'}>],\n",
       "       [<AxesSubplot:title={'center':'Fare'}>, <AxesSubplot:>,\n",
       "        <AxesSubplot:>]], dtype=object)"
      ]
     },
     "execution_count": 99,
     "metadata": {},
     "output_type": "execute_result"
    },
    {
     "data": {
      "image/png": "[encoded data removed]",
      "text/plain": [
       "<Figure size 640x480 with 9 Axes>"
      ]
     },
     "metadata": {},
     "output_type": "display_data"
    }
   ],
   "source": [
    "### q6 What is the distribution of the numerical columns?\n",
    "\n",
    "df.hist()"
   ]
  },
  {
   "cell_type": "code",
   "execution_count": 100,
   "id": "211dc4c3",
   "metadata": {},
   "outputs": [
    {
     "name": "stdout",
     "output_type": "stream",
     "text": [
      "     PassengerId  Survived  Pclass  \\\n",
      "9             10         1       2   \n",
      "10            11         1       3   \n",
      "11            12         1       1   \n",
      "12            13         0       3   \n",
      "13            14         0       3   \n",
      "..           ...       ...     ...   \n",
      "877          878         0       3   \n",
      "878          879         0       3   \n",
      "879          880         1       1   \n",
      "880          881         1       2   \n",
      "881          882         0       3   \n",
      "\n",
      "                                              Name     Sex   Age  SibSp  \\\n",
      "9              Nasser, Mrs. Nicholas (Adele Achem)  female  14.0      1   \n",
      "10                 Sandstrom, Miss. Marguerite Rut  female   4.0      1   \n",
      "11                        Bonnell, Miss. Elizabeth  female  58.0      0   \n",
      "12                  Saundercock, Mr. William Henry    male  20.0      0   \n",
      "13                     Andersson, Mr. Anders Johan    male  39.0      1   \n",
      "..                                             ...     ...   ...    ...   \n",
      "877                           Petroff, Mr. Nedelio    male  19.0      0   \n",
      "878                             Laleff, Mr. Kristo    male   NaN      0   \n",
      "879  Potter, Mrs. Thomas Jr (Lily Alexenia Wilson)  female  56.0      0   \n",
      "880   Shelley, Mrs. William (Imanita Parrish Hall)  female  25.0      0   \n",
      "881                             Markun, Mr. Johann    male  33.0      0   \n",
      "\n",
      "     Parch     Ticket     Fare Cabin Embarked  \n",
      "9        0     237736  30.0708   NaN        C  \n",
      "10       1    PP 9549  16.7000    G6        S  \n",
      "11       0     113783  26.5500  C103        S  \n",
      "12       0  A/5. 2151   8.0500   NaN        S  \n",
      "13       5     347082  31.2750   NaN        S  \n",
      "..     ...        ...      ...   ...      ...  \n",
      "877      0     349212   7.8958   NaN        S  \n",
      "878      0     349217   7.8958   NaN        S  \n",
      "879      1      11767  83.1583   C50        C  \n",
      "880      1     230433  26.0000   NaN        S  \n",
      "881      0     349257   7.8958   NaN        S  \n",
      "\n",
      "[873 rows x 12 columns]\n",
      "Empty DataFrame\n",
      "Columns: [PassengerId, Survived, Pclass, Name, Sex, Age, SibSp, Parch, Ticket, Fare, Cabin, Embarked]\n",
      "Index: []\n",
      "     PassengerId  Survived  Pclass  \\\n",
      "9             10         1       2   \n",
      "15            16         1       2   \n",
      "17            18         1       2   \n",
      "20            21         0       2   \n",
      "21            22         1       2   \n",
      "..           ...       ...     ...   \n",
      "866          867         1       2   \n",
      "874          875         1       2   \n",
      "880          881         1       2   \n",
      "883          884         0       2   \n",
      "886          887         0       2   \n",
      "\n",
      "                                             Name     Sex   Age  SibSp  Parch  \\\n",
      "9             Nasser, Mrs. Nicholas (Adele Achem)  female  14.0      1      0   \n",
      "15               Hewlett, Mrs. (Mary D Kingcome)   female  55.0      0      0   \n",
      "17                   Williams, Mr. Charles Eugene    male   NaN      0      0   \n",
      "20                           Fynney, Mr. Joseph J    male  35.0      0      0   \n",
      "21                          Beesley, Mr. Lawrence    male  34.0      0      0   \n",
      "..                                            ...     ...   ...    ...    ...   \n",
      "866                  Duran y More, Miss. Asuncion  female  27.0      1      0   \n",
      "874         Abelson, Mrs. Samuel (Hannah Wizosky)  female  28.0      1      0   \n",
      "880  Shelley, Mrs. William (Imanita Parrish Hall)  female  25.0      0      1   \n",
      "883                 Banfield, Mr. Frederick James    male  28.0      0      0   \n",
      "886                         Montvila, Rev. Juozas    male  27.0      0      0   \n",
      "\n",
      "               Ticket     Fare Cabin Embarked  \n",
      "9              237736  30.0708   NaN        C  \n",
      "15             248706  16.0000   NaN        S  \n",
      "17             244373  13.0000   NaN        S  \n",
      "20             239865  26.0000   NaN        S  \n",
      "21             248698  13.0000   D56        S  \n",
      "..                ...      ...   ...      ...  \n",
      "866     SC/PARIS 2149  13.8583   NaN        C  \n",
      "874         P/PP 3381  24.0000   NaN        C  \n",
      "880            230433  26.0000   NaN        S  \n",
      "883  C.A./SOTON 34068  10.5000   NaN        S  \n",
      "886            211536  13.0000   NaN        S  \n",
      "\n",
      "[184 rows x 12 columns]\n",
      "     PassengerId  Survived  Pclass  \\\n",
      "0              1         0       3   \n",
      "1              2         1       1   \n",
      "2              3         1       3   \n",
      "3              4         1       1   \n",
      "4              5         0       3   \n",
      "..           ...       ...     ...   \n",
      "885          886         0       3   \n",
      "886          887         0       2   \n",
      "887          888         1       1   \n",
      "889          890         1       1   \n",
      "890          891         0       3   \n",
      "\n",
      "                                                  Name     Sex   Age  SibSp  \\\n",
      "0                              Braund, Mr. Owen Harris    male  22.0      1   \n",
      "1    Cumings, Mrs. John Bradley (Florence Briggs Th...  female  38.0      1   \n",
      "2                               Heikkinen, Miss. Laina  female  26.0      0   \n",
      "3         Futrelle, Mrs. Jacques Heath (Lily May Peel)  female  35.0      1   \n",
      "4                             Allen, Mr. William Henry    male  35.0      0   \n",
      "..                                                 ...     ...   ...    ...   \n",
      "885               Rice, Mrs. William (Margaret Norton)  female  39.0      0   \n",
      "886                              Montvila, Rev. Juozas    male  27.0      0   \n",
      "887                       Graham, Miss. Margaret Edith  female  19.0      0   \n",
      "889                              Behr, Mr. Karl Howell    male  26.0      0   \n",
      "890                                Dooley, Mr. Patrick    male  32.0      0   \n",
      "\n",
      "     Parch            Ticket     Fare Cabin Embarked  \n",
      "0        0         A/5 21171   7.2500   NaN        S  \n",
      "1        0          PC 17599  71.2833   C85        C  \n",
      "2        0  STON/O2. 3101282   7.9250   NaN        S  \n",
      "3        0            113803  53.1000  C123        S  \n",
      "4        0            373450   8.0500   NaN        S  \n",
      "..     ...               ...      ...   ...      ...  \n",
      "885      5            382652  29.1250   NaN        Q  \n",
      "886      0            211536  13.0000   NaN        S  \n",
      "887      0            112053  30.0000   B42        S  \n",
      "889      0            111369  30.0000  C148        C  \n",
      "890      0            370376   7.7500   NaN        Q  \n",
      "\n",
      "[692 rows x 12 columns]\n",
      "     PassengerId  Survived  Pclass  \\\n",
      "0              1         0       3   \n",
      "1              2         1       1   \n",
      "3              4         1       1   \n",
      "7              8         0       3   \n",
      "9             10         1       2   \n",
      "..           ...       ...     ...   \n",
      "866          867         1       2   \n",
      "869          870         1       3   \n",
      "871          872         1       1   \n",
      "874          875         1       2   \n",
      "888          889         0       3   \n",
      "\n",
      "                                                  Name     Sex   Age  SibSp  \\\n",
      "0                              Braund, Mr. Owen Harris    male  22.0      1   \n",
      "1    Cumings, Mrs. John Bradley (Florence Briggs Th...  female  38.0      1   \n",
      "3         Futrelle, Mrs. Jacques Heath (Lily May Peel)  female  35.0      1   \n",
      "7                       Palsson, Master. Gosta Leonard    male   2.0      3   \n",
      "9                  Nasser, Mrs. Nicholas (Adele Achem)  female  14.0      1   \n",
      "..                                                 ...     ...   ...    ...   \n",
      "866                       Duran y More, Miss. Asuncion  female  27.0      1   \n",
      "869                    Johnson, Master. Harold Theodor    male   4.0      1   \n",
      "871   Beckwith, Mrs. Richard Leonard (Sallie Monypeny)  female  47.0      1   \n",
      "874              Abelson, Mrs. Samuel (Hannah Wizosky)  female  28.0      1   \n",
      "888           Johnston, Miss. Catherine Helen \"Carrie\"  female   NaN      1   \n",
      "\n",
      "     Parch         Ticket     Fare Cabin Embarked  \n",
      "0        0      A/5 21171   7.2500   NaN        S  \n",
      "1        0       PC 17599  71.2833   C85        C  \n",
      "3        0         113803  53.1000  C123        S  \n",
      "7        1         349909  21.0750   NaN        S  \n",
      "9        0         237736  30.0708   NaN        C  \n",
      "..     ...            ...      ...   ...      ...  \n",
      "866      0  SC/PARIS 2149  13.8583   NaN        C  \n",
      "869      1         347742  11.1333   NaN        S  \n",
      "871      1          11751  52.5542   D35        S  \n",
      "874      0      P/PP 3381  24.0000   NaN        C  \n",
      "888      2     W./C. 6607  23.4500   NaN        S  \n",
      "\n",
      "[271 rows x 12 columns]\n",
      "     PassengerId  Survived  Pclass  \\\n",
      "7              8         0       3   \n",
      "8              9         1       3   \n",
      "10            11         1       3   \n",
      "16            17         0       3   \n",
      "24            25         0       3   \n",
      "..           ...       ...     ...   \n",
      "869          870         1       3   \n",
      "871          872         1       1   \n",
      "879          880         1       1   \n",
      "880          881         1       2   \n",
      "888          889         0       3   \n",
      "\n",
      "                                                  Name     Sex   Age  SibSp  \\\n",
      "7                       Palsson, Master. Gosta Leonard    male   2.0      3   \n",
      "8    Johnson, Mrs. Oscar W (Elisabeth Vilhelmina Berg)  female  27.0      0   \n",
      "10                     Sandstrom, Miss. Marguerite Rut  female   4.0      1   \n",
      "16                                Rice, Master. Eugene    male   2.0      4   \n",
      "24                       Palsson, Miss. Torborg Danira  female   8.0      3   \n",
      "..                                                 ...     ...   ...    ...   \n",
      "869                    Johnson, Master. Harold Theodor    male   4.0      1   \n",
      "871   Beckwith, Mrs. Richard Leonard (Sallie Monypeny)  female  47.0      1   \n",
      "879      Potter, Mrs. Thomas Jr (Lily Alexenia Wilson)  female  56.0      0   \n",
      "880       Shelley, Mrs. William (Imanita Parrish Hall)  female  25.0      0   \n",
      "888           Johnston, Miss. Catherine Helen \"Carrie\"  female   NaN      1   \n",
      "\n",
      "     Parch      Ticket     Fare Cabin Embarked  \n",
      "7        1      349909  21.0750   NaN        S  \n",
      "8        2      347742  11.1333   NaN        S  \n",
      "10       1     PP 9549  16.7000    G6        S  \n",
      "16       1      382652  29.1250   NaN        Q  \n",
      "24       1      349909  21.0750   NaN        S  \n",
      "..     ...         ...      ...   ...      ...  \n",
      "869      1      347742  11.1333   NaN        S  \n",
      "871      1       11751  52.5542   D35        S  \n",
      "879      1       11767  83.1583   C50        C  \n",
      "880      1      230433  26.0000   NaN        S  \n",
      "888      2  W./C. 6607  23.4500   NaN        S  \n",
      "\n",
      "[203 rows x 12 columns]\n",
      "     PassengerId  Survived  Pclass  \\\n",
      "0              1         0       3   \n",
      "1              2         1       1   \n",
      "2              3         1       3   \n",
      "3              4         1       1   \n",
      "4              5         0       3   \n",
      "..           ...       ...     ...   \n",
      "886          887         0       2   \n",
      "887          888         1       1   \n",
      "888          889         0       3   \n",
      "889          890         1       1   \n",
      "890          891         0       3   \n",
      "\n",
      "                                                  Name     Sex   Age  SibSp  \\\n",
      "0                              Braund, Mr. Owen Harris    male  22.0      1   \n",
      "1    Cumings, Mrs. John Bradley (Florence Briggs Th...  female  38.0      1   \n",
      "2                               Heikkinen, Miss. Laina  female  26.0      0   \n",
      "3         Futrelle, Mrs. Jacques Heath (Lily May Peel)  female  35.0      1   \n",
      "4                             Allen, Mr. William Henry    male  35.0      0   \n",
      "..                                                 ...     ...   ...    ...   \n",
      "886                              Montvila, Rev. Juozas    male  27.0      0   \n",
      "887                       Graham, Miss. Margaret Edith  female  19.0      0   \n",
      "888           Johnston, Miss. Catherine Helen \"Carrie\"  female   NaN      1   \n",
      "889                              Behr, Mr. Karl Howell    male  26.0      0   \n",
      "890                                Dooley, Mr. Patrick    male  32.0      0   \n",
      "\n",
      "     Parch            Ticket     Fare Cabin Embarked  \n",
      "0        0         A/5 21171   7.2500   NaN        S  \n",
      "1        0          PC 17599  71.2833   C85        C  \n",
      "2        0  STON/O2. 3101282   7.9250   NaN        S  \n",
      "3        0            113803  53.1000  C123        S  \n",
      "4        0            373450   8.0500   NaN        S  \n",
      "..     ...               ...      ...   ...      ...  \n",
      "886      0            211536  13.0000   NaN        S  \n",
      "887      0            112053  30.0000   B42        S  \n",
      "888      2        W./C. 6607  23.4500   NaN        S  \n",
      "889      0            111369  30.0000  C148        C  \n",
      "890      0            370376   7.7500   NaN        Q  \n",
      "\n",
      "[867 rows x 12 columns]\n"
     ]
    }
   ],
   "source": [
    "### q7 Are there any outliers in the numerical columns? TODO\n",
    "num_df=df.select_dtypes(include=np.number)\n",
    "# num_df_titanic=num_df.drop(['PassengerId'],axis=1)\n",
    "df_filtered=[]\n",
    "for col in num_df.columns:\n",
    "    q_low = df[col].quantile(0.01)\n",
    "    q_hi  = df[col].quantile(0.99)\n",
    "\n",
    "#     df_filtered[col] = df[(df[\"col\"] < q_hi) & (df[\"col\"] > q_low)]\n",
    "    print(df[(df[col] < q_hi) & (df[col] > q_low)])\n",
    "\n",
    "# desc_df"
   ]
  },
  {
   "cell_type": "code",
   "execution_count": 101,
   "id": "825b9318",
   "metadata": {},
   "outputs": [
    {
     "name": "stdout",
     "output_type": "stream",
     "text": [
      "columns with high correlation are :- \n",
      "Pclass  has a signifcant correlation of -0.369 with Age\n",
      "Pclass  has a signifcant correlation of -0.549 with Fare\n",
      "SibSp  has a signifcant correlation of 0.415 with Parch\n"
     ]
    },
    {
     "data": {
      "text/plain": [
       "[('Pclass', 'Age', -0.369),\n",
       " ('Pclass', 'Fare', -0.549),\n",
       " ('SibSp', 'Parch', 0.415)]"
      ]
     },
     "execution_count": 101,
     "metadata": {},
     "output_type": "execute_result"
    }
   ],
   "source": [
    "### q8. Are there any correlations among the numerical columns?\n",
    "\n",
    "def get_high_corr_column_pairs(df,high_corr=0.35,suppress_verbose_output=False):\n",
    "    corr_df=df.corr()\n",
    "    corr_df_ndarray=corr_df.values\n",
    "\n",
    "    ## remove lower half triangle of repeated values \n",
    "    for i in range(corr_df_ndarray.shape[0]):\n",
    "        j=i\n",
    "        while j>=0:\n",
    "            corr_df_ndarray[i][j]=np.NaN\n",
    "            j=j-1\n",
    "\n",
    "    # print(corr_df_ndarray)\n",
    "    high_corr_index_bool= ((corr_df_ndarray > high_corr) | (corr_df_ndarray < -high_corr)) & (corr_df_ndarray != float(1))\n",
    "\n",
    "    high_corr_index_list=np.argwhere(high_corr_index_bool)\n",
    "    high_corr_columns_list=[]\n",
    "    if suppress_verbose_output==False:\n",
    "        print('columns with high correlation are :- ')\n",
    "    for tup in high_corr_index_list:\n",
    "        high_corr_columns_list.append((corr_df.index[tup[0]],corr_df.columns[tup[1]],np.round_(corr_df_ndarray[tup[0],tup[1]],decimals=3)))\n",
    "        if suppress_verbose_output==False:\n",
    "            print(corr_df.index[tup[0]],' has a signifcant correlation of', np.round_(corr_df_ndarray[tup[0],tup[1]],decimals=3),'with', corr_df.columns[tup[1]])\n",
    "    return high_corr_columns_list\n",
    "    \n",
    "get_high_corr_column_pairs(df)"
   ]
  },
  {
   "cell_type": "code",
   "execution_count": 102,
   "id": "fb62c854",
   "metadata": {},
   "outputs": [
    {
     "name": "stdout",
     "output_type": "stream",
     "text": [
      "\n",
      "    There is no date column in this dataset.\n",
      "    \n"
     ]
    }
   ],
   "source": [
    "## q9.Are there any patterns in the date or time columns?\n",
    "\n",
    "\n",
    "\n",
    "if csv_file=='HappyCars.csv':\n",
    "\n",
    "    df_copy=pd.DataFrame.copy(df)\n",
    "\n",
    "    df_copy['BirthDate']=pd.to_datetime(df['BirthDate'])\n",
    "    print(df_copy['BirthDate'].hist())\n",
    "    print(df_copy['BirthDate'].describe())\n",
    "elif csv_file=='Titanic.csv':\n",
    "    print('''\n",
    "    There is no date column in this dataset.\n",
    "    ''')\n",
    "\n",
    "\n",
    "# df_copy['BirthDate'].dtypes\n",
    "\n",
    "\n",
    "# df_copy['BirthDate']=pd.to_datetime(df['BirthDate'],format='%s')\n",
    "# df_copy['BirthDate']=pd.to_numeric(df_copy['BirthDate'])\n",
    "# for tup in get_high_corr_column_pairs(df_copy,suppress_verbose_output=True):\n",
    "#     if 'BirthDate' in tup:\n",
    "#         print(tup[0],' has a signifcant correlation of', tup[2],'with', tup[1])"
   ]
  },
  {
   "cell_type": "code",
   "execution_count": 103,
   "id": "19d4ac73",
   "metadata": {},
   "outputs": [
    {
     "name": "stdout",
     "output_type": "stream",
     "text": [
      "There are  0  duplicated rows in the dataset\n"
     ]
    }
   ],
   "source": [
    "### q10 Are there any duplicated rows in the dataset?\n",
    "\n",
    "print('There are ',len(np.argwhere(df.duplicated().values)), ' duplicated rows in the dataset')"
   ]
  },
  {
   "cell_type": "code",
   "execution_count": 104,
   "id": "a5a5b11f",
   "metadata": {},
   "outputs": [
    {
     "name": "stdout",
     "output_type": "stream",
     "text": [
      "There are  866  NaN values in the Dataset\n"
     ]
    }
   ],
   "source": [
    "### q11 Are there any unusual or unexpected values in the dataset?\n",
    "\n",
    "print('There are ',len(np.argwhere(df.isna().values)),' NaN values in the Dataset')"
   ]
  },
  {
   "cell_type": "code",
   "execution_count": 105,
   "id": "14988aa8",
   "metadata": {},
   "outputs": [
    {
     "name": "stdout",
     "output_type": "stream",
     "text": [
      "PassengerId    890.0000\n",
      "Survived         1.0000\n",
      "Pclass           2.0000\n",
      "Age             79.5800\n",
      "SibSp            8.0000\n",
      "Parch            6.0000\n",
      "Fare           512.3292\n",
      "dtype: float64\n"
     ]
    }
   ],
   "source": [
    "### q12 What is the range of values for each numerical column?\n",
    "\n",
    "import numpy as np\n",
    "# import \n",
    "\n",
    "max_series=df.max(axis=0,numeric_only=True)\n",
    "# print('min of each column :-')\n",
    "min_series=df.min(axis=0,numeric_only=True)\n",
    "range_series=max_series.copy(deep=True)\n",
    "indices_to_remove=[]\n",
    "for i in range(len(range_series)):\n",
    "    if not (type(max_series[i])==np.bool_) and not(type(min_series[i])==np.bool_): \n",
    "#         range_series.append((max_series[i]-min_series[i]))\n",
    "        range_series[i]=(max_series[i]-min_series[i])\n",
    "    else:\n",
    "        indices_to_remove.append(i)\n",
    "\n",
    "range_series.drop(labels=[range_series.index[n] for n in indices_to_remove],inplace=True)\n",
    "\n",
    "# range_series.drop(labels=indices_to_remove,inplace=True)\n",
    "\n",
    "\n",
    "print(range_series)"
   ]
  },
  {
   "cell_type": "code",
   "execution_count": 106,
   "id": "5a1b5491",
   "metadata": {},
   "outputs": [
    {
     "data": {
      "text/html": [
       "<div>\n",
       "<style scoped>\n",
       "    .dataframe tbody tr th:only-of-type {\n",
       "        vertical-align: middle;\n",
       "    }\n",
       "\n",
       "    .dataframe tbody tr th {\n",
       "        vertical-align: top;\n",
       "    }\n",
       "\n",
       "    .dataframe thead th {\n",
       "        text-align: right;\n",
       "    }\n",
       "</style>\n",
       "<table border=\"1\" class=\"dataframe\">\n",
       "  <thead>\n",
       "    <tr style=\"text-align: right;\">\n",
       "      <th></th>\n",
       "      <th>PassengerId</th>\n",
       "      <th>Survived</th>\n",
       "      <th>Pclass</th>\n",
       "      <th>Age</th>\n",
       "      <th>SibSp</th>\n",
       "      <th>Parch</th>\n",
       "      <th>Fare</th>\n",
       "    </tr>\n",
       "  </thead>\n",
       "  <tbody>\n",
       "    <tr>\n",
       "      <th>min</th>\n",
       "      <td>1.0</td>\n",
       "      <td>0.0</td>\n",
       "      <td>1.0</td>\n",
       "      <td>0.42</td>\n",
       "      <td>0.0</td>\n",
       "      <td>0.0</td>\n",
       "      <td>0.0000</td>\n",
       "    </tr>\n",
       "    <tr>\n",
       "      <th>max</th>\n",
       "      <td>891.0</td>\n",
       "      <td>1.0</td>\n",
       "      <td>3.0</td>\n",
       "      <td>80.00</td>\n",
       "      <td>8.0</td>\n",
       "      <td>6.0</td>\n",
       "      <td>512.3292</td>\n",
       "    </tr>\n",
       "  </tbody>\n",
       "</table>\n",
       "</div>"
      ],
      "text/plain": [
       "     PassengerId  Survived  Pclass    Age  SibSp  Parch      Fare\n",
       "min          1.0       0.0     1.0   0.42    0.0    0.0    0.0000\n",
       "max        891.0       1.0     3.0  80.00    8.0    6.0  512.3292"
      ]
     },
     "execution_count": 106,
     "metadata": {},
     "output_type": "execute_result"
    }
   ],
   "source": [
    "### q13 What are the minimum and maximum values for each numerical column?\n",
    "df.describe().loc[['min','max'],:]"
   ]
  },
  {
   "cell_type": "code",
   "execution_count": 107,
   "id": "b10d93cd",
   "metadata": {},
   "outputs": [
    {
     "name": "stdout",
     "output_type": "stream",
     "text": [
      "most common values in the respective columns are :-\n",
      "most common value in  Survived  is 0.0\n",
      "most common value in  Pclass  is 3.0\n",
      "most common value in  Sex  is male\n",
      "most common value in  Age  is 24.0\n",
      "most common value in  SibSp  is 0.0\n",
      "most common value in  Parch  is 0.0\n",
      "most common values in  Ticket  are 1601 , \n",
      "347082 , \n",
      "CA. 2343\n",
      "most common value in  Fare  is 8.05\n",
      "most common values in  Cabin  are B96 B98 , \n",
      "C23 C25 C27 , \n",
      "G6\n",
      "most common value in  Embarked  is S\n"
     ]
    }
   ],
   "source": [
    "### q14 What are the most common values in each categorical column?\n",
    "\n",
    "\n",
    "print('most common values in the respective columns are :-')\n",
    "\n",
    "### remove columns that have all entries unique\n",
    "\n",
    "mode_df=df.mode(axis=0)\n",
    "for col in mode_df.columns:\n",
    "    if len(mode_df[col].dropna())==len(df[col]):\n",
    "        mode_df.drop(columns=col,inplace=True)\n",
    "new_mode_df=mode_df.mode(axis=0)\n",
    "\n",
    "\n",
    "\n",
    "### nuanced way for when there multiple modes\n",
    "if not new_mode_df.shape[0]==1:\n",
    "    for col in new_mode_df.columns:\n",
    "        modes_in_col_series=new_mode_df[col].dropna()\n",
    "        modes_list=[mode for mode in modes_in_col_series]\n",
    "\n",
    "        if len(modes_list) >1:\n",
    "            print('most common values in ' ,col, ' are ',end='')\n",
    "            for i in range(len(modes_list)-1):\n",
    "                print(modes_list[i],', '  )\n",
    "            print(modes_list[len(modes_list)-1], end='\\n')\n",
    "        else:\n",
    "            print('most common value in ' ,col, ' is ',end='')\n",
    "            print(modes_list[0],end='\\n')\n",
    "else:\n",
    "    \n",
    "    ### EASY WAY\n",
    "    print(new_mode_df.iloc[0,:])"
   ]
  },
  {
   "cell_type": "code",
   "execution_count": 108,
   "id": "bc926697",
   "metadata": {},
   "outputs": [
    {
     "name": "stdout",
     "output_type": "stream",
     "text": [
      "\n",
      "    No inconsistencies were noticed in this dataset.\n",
      "    \n"
     ]
    }
   ],
   "source": [
    "### q15 Are there any errors or inconsistencies in the data?\n",
    "\n",
    "\n",
    "# print(np.argwhere(df.NumberChildrenAtHome.values > df.TotalChildren.values))\n",
    "if csv_file=='HappyCars.csv':\n",
    "    for i in np.argwhere(df.NumberChildrenAtHome.values > df.TotalChildren.values).flatten():\n",
    "        print('NumberChildrenAtHome,viz. ',df.NumberChildrenAtHome.iloc[i] , ' is greater than TotalChildren, viz.', df.TotalChildren.iloc[i], 'for the row index', i)\n",
    "elif csv_file=='Titanic.csv':\n",
    "    print('''\n",
    "    No inconsistencies were noticed in this dataset.\n",
    "    '''\n",
    "    \n",
    "    )\n",
    "    \n",
    "# print(df.CustomerID.nunique())\n",
    "    \n",
    "\n",
    "# print('There are ',len(np.argwhere(df.isna().values)),' NaN values in the Dataset')\n",
    "# print('There are ',len(np.argwhere(df.duplicated().values)), ' duplicated rows in the dataset')"
   ]
  },
  {
   "cell_type": "code",
   "execution_count": 109,
   "id": "32033250",
   "metadata": {},
   "outputs": [
    {
     "name": "stdout",
     "output_type": "stream",
     "text": [
      "\n",
      "    No discrepancies were noticed in this dataset.\n",
      "    \n"
     ]
    }
   ],
   "source": [
    "### q16 Are there any discrepancies in the data?\n",
    "\n",
    "if csv_file=='HappyCars.csv':\n",
    "    for i in np.argwhere(df.NumberChildrenAtHome.values > df.TotalChildren.values).flatten():\n",
    "        print('NumberChildrenAtHome,viz. ',df.NumberChildrenAtHome.iloc[i] , ' is greater than TotalChildren, viz.', df.TotalChildren.iloc[i], 'for the row index', i)\n",
    "elif csv_file=='Titanic.csv':\n",
    "    print('''\n",
    "    No discrepancies were noticed in this dataset.\n",
    "    '''\n",
    "    \n",
    "    )"
   ]
  },
  {
   "cell_type": "code",
   "execution_count": 110,
   "id": "0c1fd5d6",
   "metadata": {},
   "outputs": [
    {
     "name": "stdout",
     "output_type": "stream",
     "text": [
      "PassengerId\n",
      "Survived\n",
      "Pclass\n",
      "Name\n",
      "Sex\n",
      "Age\n",
      "SibSp\n",
      "Parch\n",
      "Ticket\n",
      "Fare\n",
      "Cabin\n",
      "Embarked\n"
     ]
    }
   ],
   "source": [
    "### q17 What are the column names in the dataset?\n",
    "for col in df.columns:\n",
    "    print(col)"
   ]
  },
  {
   "cell_type": "code",
   "execution_count": 111,
   "id": "0ba6d820",
   "metadata": {},
   "outputs": [
    {
     "name": "stdout",
     "output_type": "stream",
     "text": [
      "there are  891 rows and  12 columns\n"
     ]
    }
   ],
   "source": [
    "### q18 How many rows and columns are in the dataset?\n",
    "print('there are ',df.shape[0], 'rows and ',df.shape[1],'columns')"
   ]
  },
  {
   "cell_type": "code",
   "execution_count": 112,
   "id": "8e6a8fcb",
   "metadata": {},
   "outputs": [],
   "source": [
    "### q19 What are the different levels of the categorical columns? ### did not understand the question"
   ]
  },
  {
   "cell_type": "code",
   "execution_count": 113,
   "id": "15ac8e05",
   "metadata": {},
   "outputs": [
    {
     "data": {
      "text/plain": [
       "PassengerId    891\n",
       "Survived         2\n",
       "Pclass           3\n",
       "Name           891\n",
       "Sex              2\n",
       "Age             88\n",
       "SibSp            7\n",
       "Parch            7\n",
       "Ticket         681\n",
       "Fare           248\n",
       "Cabin          147\n",
       "Embarked         3\n",
       "dtype: int64"
      ]
     },
     "execution_count": 113,
     "metadata": {},
     "output_type": "execute_result"
    }
   ],
   "source": [
    "### q20 What are the unique values for each categorical column?\n",
    "df.nunique(axis=0)"
   ]
  },
  {
   "cell_type": "code",
   "execution_count": 114,
   "id": "ccb0d4d9",
   "metadata": {},
   "outputs": [
    {
     "name": "stdout",
     "output_type": "stream",
     "text": [
      "\n"
     ]
    }
   ],
   "source": [
    "### q21 Are there any columns that are not informative or useful for analysis?\n",
    "\n",
    "## check\n",
    "if csv_file=='HappyCars.csv':\n",
    "    print('''\n",
    "I assume that the given dataset refers to a dataset gathered by a business to find the correlation between the \n",
    "various personal data of their customers and the profit that the customer generates for the business. This may be\n",
    "done so that the business focus their attention and marketing on customers with qualities that are correlated\n",
    "with higher profits for the business.\n",
    "\n",
    "In this regard, only the column MiddleName seems irrelevant to the analysis since there is a unique customerID\n",
    "for each customer anyway and there is little use in storing the middle name of the customer.\n",
    "\n",
    "''')\n",
    "elif csv_file=='Titanic.csv':\n",
    "    print()"
   ]
  },
  {
   "cell_type": "code",
   "execution_count": 115,
   "id": "66d8846e",
   "metadata": {},
   "outputs": [
    {
     "name": "stdout",
     "output_type": "stream",
     "text": [
      "\n"
     ]
    }
   ],
   "source": [
    "### q22 Are there any columns that need to be transformed or cleaned before analysis?\n",
    "\n",
    "if csv_file=='HappyCars.csv':\n",
    "    print('''\n",
    "CommuteDistance column should be converted to a numerical column by including only numbers \n",
    "BirthDate should be transformed to date datatype by using pd.to_datetime function\n",
    "\n",
    "\n",
    "''')\n",
    "elif csv_file=='Titanic.csv':\n",
    "    print()"
   ]
  },
  {
   "cell_type": "code",
   "execution_count": 116,
   "id": "b21a8ee9",
   "metadata": {},
   "outputs": [
    {
     "name": "stdout",
     "output_type": "stream",
     "text": [
      "\n",
      "    Parch and SibSp columns can be dropped since it is not understood what this data stands for.\n",
      "    \n",
      "    \n"
     ]
    }
   ],
   "source": [
    "### q23 Are there any columns that can be dropped from the dataset?\n",
    "if csv_file=='HappyCars.csv':\n",
    "    print('''\n",
    "I assume that the given dataset refers to a dataset gathered by a business to find the correlation between the \n",
    "various personal data of their customers and the profit that the customer generates for the business. This may be\n",
    "done so that the business focus their attention and marketing on customers with qualities that are correlated\n",
    "with higher profits for the business.\n",
    "\n",
    "In this regard, only the column MiddleName seems irrelevant to the analysis since there is a unique customerID\n",
    "for each customer anyway and there is little use in storing the middle name of the customer.\n",
    "\n",
    "''')\n",
    "elif csv_file=='Titanic.csv':\n",
    "    print('''\n",
    "    Parch and SibSp columns can be dropped since it is not understood what this data stands for.\n",
    "    \n",
    "    '''\n",
    "    \n",
    "    )"
   ]
  },
  {
   "cell_type": "code",
   "execution_count": 117,
   "id": "d51af19f",
   "metadata": {},
   "outputs": [
    {
     "name": "stdout",
     "output_type": "stream",
     "text": [
      "\n",
      "    PassengerId column can be used as a unique identifier.\n",
      "    \n"
     ]
    }
   ],
   "source": [
    "### q24 Are there any columns that can be used as identifiers or keys for merging or joining other datasets?\n",
    "if csv_file=='HappyCars.csv':\n",
    "    print('''\n",
    "CustomerID column can be used as a unique identifier.\n",
    "\n",
    "''')\n",
    "elif csv_file=='Titanic.csv':\n",
    "    print('''\n",
    "    PassengerId column can be used as a unique identifier.\n",
    "    ''')"
   ]
  },
  {
   "cell_type": "code",
   "execution_count": 118,
   "id": "27235181",
   "metadata": {},
   "outputs": [
    {
     "name": "stdout",
     "output_type": "stream",
     "text": [
      "\n",
      "    It would be useful to predict the Survived column from the rest of the data.\n",
      "    \n"
     ]
    }
   ],
   "source": [
    "### q25 Are there any columns that can be used as target variables for prediction or classification tasks? TODO\n",
    "\n",
    "if csv_file=='HappyCars.csv':\n",
    "    print('''\n",
    "    It would be useful to predict the ProfitGenerated column from the rest of the data.\n",
    "''')\n",
    "elif csv_file=='Titanic.csv':\n",
    "    print('''\n",
    "    It would be useful to predict the Survived column from the rest of the data.\n",
    "    ''')\n",
    "\n",
    "\n",
    "\n"
   ]
  },
  {
   "cell_type": "code",
   "execution_count": 119,
   "id": "8fe577a1",
   "metadata": {},
   "outputs": [
    {
     "data": {
      "text/plain": [
       "''"
      ]
     },
     "execution_count": 119,
     "metadata": {},
     "output_type": "execute_result"
    }
   ],
   "source": [
    "\n",
    "### appendix\n",
    "\n",
    "\n",
    "\n",
    "'''\n",
    "# print(np.where(df['Cabin']=='B96') \n",
    "# boolmat=df['Cabin']=='B98'\n",
    "# print(boolmat)\n",
    "# print(df.loc[:,'Cabin'].loc[:,df.loc[:,'Cabin']=='B98'])\n",
    "# print(df.loc[:,'Cabin'][df.loc[:,'Cabin']=='B96 B98'])\n",
    "# print(pd.where(df=='B96 B98')) ### does not work\n",
    "# print(df=='B96 B98')\n",
    "boolmat= (df.values=='B96 B98')\n",
    "print(np.argwhere(boolmat))\n",
    "argwhere_output_list=np.argwhere(boolmat)\n",
    "print([(df.index[coord[0]],df.columns[coord[1]],df.iloc[coord[0],coord[1]]) for coord in argwhere_output_list ])\n",
    "\n",
    "# print(type(df.columns))\n",
    "# print(type(df.Cabin[df.Cabin=='B96 B98'].index))\n",
    "\n",
    "\n",
    "import re\n",
    "### TODO commute distance 'Miles' makes the column not numerical\n",
    "for string in df['CommuteDistance']:\n",
    "    re.search(pattern='Miles',   str(string))\n",
    "    \n",
    "'''\n",
    "''''''\n",
    "# pd.read_csv('Titanic.csv')"
   ]
  },
  {
   "cell_type": "code",
   "execution_count": 120,
   "id": "73596155",
   "metadata": {},
   "outputs": [],
   "source": [
    "# pd.read_csv('HappyCars.csv')"
   ]
  },
  {
   "cell_type": "code",
   "execution_count": null,
   "id": "55c92652",
   "metadata": {},
   "outputs": [],
   "source": []
  }
 ],
 "metadata": {
  "kernelspec": {
   "display_name": "Python 3 (ipykernel)",
   "language": "python",
   "name": "python3"
  },
  "language_info": {
   "codemirror_mode": {
    "name": "ipython",
    "version": 3
   },
   "file_extension": ".py",
   "mimetype": "text/x-python",
   "name": "python",
   "nbconvert_exporter": "python",
   "pygments_lexer": "ipython3",
   "version": "3.9.13"
  }
 },
 "nbformat": 4,
 "nbformat_minor": 5
}

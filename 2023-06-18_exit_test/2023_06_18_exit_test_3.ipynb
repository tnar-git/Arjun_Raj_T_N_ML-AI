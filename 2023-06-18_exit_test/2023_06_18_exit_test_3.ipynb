{
  "cells": [
    {
      "cell_type": "code",
      "execution_count": 1,
      "metadata": {
        "id": "KEmoub7HNkev"
      },
      "outputs": [],
      "source": [
        "import pandas as pd\n",
        "import numpy as np"
      ]
    },
    {
      "cell_type": "code",
      "source": [
        "from google.colab import drive\n",
        "drive.mount('/content/drive')"
      ],
      "metadata": {
        "colab": {
          "base_uri": "https://localhost:8080/"
        },
        "id": "xeZXjVTj8br1",
        "outputId": "05e848ef-ad63-4941-a225-2b0b5ecfb34a"
      },
      "execution_count": 2,
      "outputs": [
        {
          "output_type": "stream",
          "name": "stdout",
          "text": [
            "Mounted at /content/drive\n"
          ]
        }
      ]
    },
    {
      "cell_type": "code",
      "execution_count": 3,
      "metadata": {
        "id": "yUmC2ue2N9zr"
      },
      "outputs": [],
      "source": [
        "drive_project_folder_path='/content/drive/MyDrive/ml-ai files arjun'\n",
        "datafile_path=f'{drive_project_folder_path}/tweet_emotions.csv'\n",
        "\n",
        "tweets_data = pd.read_csv(datafile_path)"
      ]
    },
    {
      "cell_type": "code",
      "execution_count": 4,
      "metadata": {
        "colab": {
          "base_uri": "https://localhost:8080/"
        },
        "id": "_dmrpd7oOHuy",
        "outputId": "faa0cc79-4320-4fc8-d663-3d57c9799024"
      },
      "outputs": [
        {
          "output_type": "execute_result",
          "data": {
            "text/plain": [
              "(40000, 3)"
            ]
          },
          "metadata": {},
          "execution_count": 4
        }
      ],
      "source": [
        "tweets_data.shape"
      ]
    },
    {
      "cell_type": "code",
      "source": [
        "num_targets=tweets_data['sentiment'].nunique()\n",
        "num_targets"
      ],
      "metadata": {
        "colab": {
          "base_uri": "https://localhost:8080/"
        },
        "id": "o1fTTQf8VbZP",
        "outputId": "67eb6360-443b-4737-8a10-ff8159587979"
      },
      "execution_count": 5,
      "outputs": [
        {
          "output_type": "execute_result",
          "data": {
            "text/plain": [
              "13"
            ]
          },
          "metadata": {},
          "execution_count": 5
        }
      ]
    },
    {
      "cell_type": "code",
      "source": [
        "tweets_data['sentiment'].value_counts()"
      ],
      "metadata": {
        "colab": {
          "base_uri": "https://localhost:8080/"
        },
        "id": "2Ksyv55lWwTf",
        "outputId": "a6586ec2-5f5c-4eda-a2d5-570a1684b113"
      },
      "execution_count": 6,
      "outputs": [
        {
          "output_type": "execute_result",
          "data": {
            "text/plain": [
              "neutral       8638\n",
              "worry         8459\n",
              "happiness     5209\n",
              "sadness       5165\n",
              "love          3842\n",
              "surprise      2187\n",
              "fun           1776\n",
              "relief        1526\n",
              "hate          1323\n",
              "empty          827\n",
              "enthusiasm     759\n",
              "boredom        179\n",
              "anger          110\n",
              "Name: sentiment, dtype: int64"
            ]
          },
          "metadata": {},
          "execution_count": 6
        }
      ]
    },
    {
      "cell_type": "code",
      "execution_count": 7,
      "metadata": {
        "id": "YjMwfa7XpSTI",
        "colab": {
          "base_uri": "https://localhost:8080/"
        },
        "outputId": "7583821e-3f62-4a9e-943f-01405cf4397e"
      },
      "outputs": [
        {
          "output_type": "execute_result",
          "data": {
            "text/plain": [
              "(14999, 3)"
            ]
          },
          "metadata": {},
          "execution_count": 7
        }
      ],
      "source": [
        "### data too big system crashes\n",
        "tweets_data=tweets_data.iloc[1:15000,:]\n",
        "tweets_data.shape"
      ]
    },
    {
      "cell_type": "code",
      "execution_count": 8,
      "metadata": {
        "colab": {
          "base_uri": "https://localhost:8080/"
        },
        "id": "x7FzXEhKOJ-6",
        "outputId": "42091a5d-f6da-431c-db9b-72cad2364d46"
      },
      "outputs": [
        {
          "output_type": "execute_result",
          "data": {
            "text/plain": [
              "Index(['tweet_id', 'sentiment', 'content'], dtype='object')"
            ]
          },
          "metadata": {},
          "execution_count": 8
        }
      ],
      "source": [
        "tweets_data.columns"
      ]
    },
    {
      "cell_type": "code",
      "execution_count": 9,
      "metadata": {
        "colab": {
          "base_uri": "https://localhost:8080/",
          "height": 520
        },
        "id": "iIfGRl7PONIW",
        "outputId": "4cecd710-e4ea-4d5b-95c5-1070ad4f0085"
      },
      "outputs": [
        {
          "output_type": "execute_result",
          "data": {
            "text/plain": [
              "      tweet_id   sentiment                                            content\n",
              "1   1956967666     sadness  Layin n bed with a headache  ughhhh...waitin o...\n",
              "2   1956967696     sadness                Funeral ceremony...gloomy friday...\n",
              "3   1956967789  enthusiasm               wants to hang out with friends SOON!\n",
              "4   1956968416     neutral  @dannycastillo We want to trade with someone w...\n",
              "5   1956968477       worry  Re-pinging @ghostridah14: why didn't you go to...\n",
              "6   1956968487     sadness  I should be sleep, but im not! thinking about ...\n",
              "7   1956968636       worry               Hmmm. http://www.djhero.com/ is down\n",
              "8   1956969035     sadness            @charviray Charlene my love. I miss you\n",
              "9   1956969172     sadness         @kelcouch I'm sorry  at least it's Friday?\n",
              "10  1956969456     neutral                                   cant fall asleep\n",
              "11  1956969531       worry                            Choked on her retainers\n",
              "12  1956970047     sadness  Ugh! I have to beat this stupid song to get to...\n",
              "13  1956970424     sadness  @BrodyJenner if u watch the hills in london u ...\n",
              "14  1956970860    surprise                                       Got the news\n",
              "15  1956971077     sadness      The storm is here and the electricity is gone"
            ],
            "text/html": [
              "\n",
              "  <div id=\"df-61f1d9de-9ae3-4cd6-8493-bd9ae31b2d5c\">\n",
              "    <div class=\"colab-df-container\">\n",
              "      <div>\n",
              "<style scoped>\n",
              "    .dataframe tbody tr th:only-of-type {\n",
              "        vertical-align: middle;\n",
              "    }\n",
              "\n",
              "    .dataframe tbody tr th {\n",
              "        vertical-align: top;\n",
              "    }\n",
              "\n",
              "    .dataframe thead th {\n",
              "        text-align: right;\n",
              "    }\n",
              "</style>\n",
              "<table border=\"1\" class=\"dataframe\">\n",
              "  <thead>\n",
              "    <tr style=\"text-align: right;\">\n",
              "      <th></th>\n",
              "      <th>tweet_id</th>\n",
              "      <th>sentiment</th>\n",
              "      <th>content</th>\n",
              "    </tr>\n",
              "  </thead>\n",
              "  <tbody>\n",
              "    <tr>\n",
              "      <th>1</th>\n",
              "      <td>1956967666</td>\n",
              "      <td>sadness</td>\n",
              "      <td>Layin n bed with a headache  ughhhh...waitin o...</td>\n",
              "    </tr>\n",
              "    <tr>\n",
              "      <th>2</th>\n",
              "      <td>1956967696</td>\n",
              "      <td>sadness</td>\n",
              "      <td>Funeral ceremony...gloomy friday...</td>\n",
              "    </tr>\n",
              "    <tr>\n",
              "      <th>3</th>\n",
              "      <td>1956967789</td>\n",
              "      <td>enthusiasm</td>\n",
              "      <td>wants to hang out with friends SOON!</td>\n",
              "    </tr>\n",
              "    <tr>\n",
              "      <th>4</th>\n",
              "      <td>1956968416</td>\n",
              "      <td>neutral</td>\n",
              "      <td>@dannycastillo We want to trade with someone w...</td>\n",
              "    </tr>\n",
              "    <tr>\n",
              "      <th>5</th>\n",
              "      <td>1956968477</td>\n",
              "      <td>worry</td>\n",
              "      <td>Re-pinging @ghostridah14: why didn't you go to...</td>\n",
              "    </tr>\n",
              "    <tr>\n",
              "      <th>6</th>\n",
              "      <td>1956968487</td>\n",
              "      <td>sadness</td>\n",
              "      <td>I should be sleep, but im not! thinking about ...</td>\n",
              "    </tr>\n",
              "    <tr>\n",
              "      <th>7</th>\n",
              "      <td>1956968636</td>\n",
              "      <td>worry</td>\n",
              "      <td>Hmmm. http://www.djhero.com/ is down</td>\n",
              "    </tr>\n",
              "    <tr>\n",
              "      <th>8</th>\n",
              "      <td>1956969035</td>\n",
              "      <td>sadness</td>\n",
              "      <td>@charviray Charlene my love. I miss you</td>\n",
              "    </tr>\n",
              "    <tr>\n",
              "      <th>9</th>\n",
              "      <td>1956969172</td>\n",
              "      <td>sadness</td>\n",
              "      <td>@kelcouch I'm sorry  at least it's Friday?</td>\n",
              "    </tr>\n",
              "    <tr>\n",
              "      <th>10</th>\n",
              "      <td>1956969456</td>\n",
              "      <td>neutral</td>\n",
              "      <td>cant fall asleep</td>\n",
              "    </tr>\n",
              "    <tr>\n",
              "      <th>11</th>\n",
              "      <td>1956969531</td>\n",
              "      <td>worry</td>\n",
              "      <td>Choked on her retainers</td>\n",
              "    </tr>\n",
              "    <tr>\n",
              "      <th>12</th>\n",
              "      <td>1956970047</td>\n",
              "      <td>sadness</td>\n",
              "      <td>Ugh! I have to beat this stupid song to get to...</td>\n",
              "    </tr>\n",
              "    <tr>\n",
              "      <th>13</th>\n",
              "      <td>1956970424</td>\n",
              "      <td>sadness</td>\n",
              "      <td>@BrodyJenner if u watch the hills in london u ...</td>\n",
              "    </tr>\n",
              "    <tr>\n",
              "      <th>14</th>\n",
              "      <td>1956970860</td>\n",
              "      <td>surprise</td>\n",
              "      <td>Got the news</td>\n",
              "    </tr>\n",
              "    <tr>\n",
              "      <th>15</th>\n",
              "      <td>1956971077</td>\n",
              "      <td>sadness</td>\n",
              "      <td>The storm is here and the electricity is gone</td>\n",
              "    </tr>\n",
              "  </tbody>\n",
              "</table>\n",
              "</div>\n",
              "      <button class=\"colab-df-convert\" onclick=\"convertToInteractive('df-61f1d9de-9ae3-4cd6-8493-bd9ae31b2d5c')\"\n",
              "              title=\"Convert this dataframe to an interactive table.\"\n",
              "              style=\"display:none;\">\n",
              "        \n",
              "  <svg xmlns=\"http://www.w3.org/2000/svg\" height=\"24px\"viewBox=\"0 0 24 24\"\n",
              "       width=\"24px\">\n",
              "    <path d=\"M0 0h24v24H0V0z\" fill=\"none\"/>\n",
              "    <path d=\"M18.56 5.44l.94 2.06.94-2.06 2.06-.94-2.06-.94-.94-2.06-.94 2.06-2.06.94zm-11 1L8.5 8.5l.94-2.06 2.06-.94-2.06-.94L8.5 2.5l-.94 2.06-2.06.94zm10 10l.94 2.06.94-2.06 2.06-.94-2.06-.94-.94-2.06-.94 2.06-2.06.94z\"/><path d=\"M17.41 7.96l-1.37-1.37c-.4-.4-.92-.59-1.43-.59-.52 0-1.04.2-1.43.59L10.3 9.45l-7.72 7.72c-.78.78-.78 2.05 0 2.83L4 21.41c.39.39.9.59 1.41.59.51 0 1.02-.2 1.41-.59l7.78-7.78 2.81-2.81c.8-.78.8-2.07 0-2.86zM5.41 20L4 18.59l7.72-7.72 1.47 1.35L5.41 20z\"/>\n",
              "  </svg>\n",
              "      </button>\n",
              "      \n",
              "  <style>\n",
              "    .colab-df-container {\n",
              "      display:flex;\n",
              "      flex-wrap:wrap;\n",
              "      gap: 12px;\n",
              "    }\n",
              "\n",
              "    .colab-df-convert {\n",
              "      background-color: #E8F0FE;\n",
              "      border: none;\n",
              "      border-radius: 50%;\n",
              "      cursor: pointer;\n",
              "      display: none;\n",
              "      fill: #1967D2;\n",
              "      height: 32px;\n",
              "      padding: 0 0 0 0;\n",
              "      width: 32px;\n",
              "    }\n",
              "\n",
              "    .colab-df-convert:hover {\n",
              "      background-color: #E2EBFA;\n",
              "      box-shadow: 0px 1px 2px rgba(60, 64, 67, 0.3), 0px 1px 3px 1px rgba(60, 64, 67, 0.15);\n",
              "      fill: #174EA6;\n",
              "    }\n",
              "\n",
              "    [theme=dark] .colab-df-convert {\n",
              "      background-color: #3B4455;\n",
              "      fill: #D2E3FC;\n",
              "    }\n",
              "\n",
              "    [theme=dark] .colab-df-convert:hover {\n",
              "      background-color: #434B5C;\n",
              "      box-shadow: 0px 1px 3px 1px rgba(0, 0, 0, 0.15);\n",
              "      filter: drop-shadow(0px 1px 2px rgba(0, 0, 0, 0.3));\n",
              "      fill: #FFFFFF;\n",
              "    }\n",
              "  </style>\n",
              "\n",
              "      <script>\n",
              "        const buttonEl =\n",
              "          document.querySelector('#df-61f1d9de-9ae3-4cd6-8493-bd9ae31b2d5c button.colab-df-convert');\n",
              "        buttonEl.style.display =\n",
              "          google.colab.kernel.accessAllowed ? 'block' : 'none';\n",
              "\n",
              "        async function convertToInteractive(key) {\n",
              "          const element = document.querySelector('#df-61f1d9de-9ae3-4cd6-8493-bd9ae31b2d5c');\n",
              "          const dataTable =\n",
              "            await google.colab.kernel.invokeFunction('convertToInteractive',\n",
              "                                                     [key], {});\n",
              "          if (!dataTable) return;\n",
              "\n",
              "          const docLinkHtml = 'Like what you see? Visit the ' +\n",
              "            '<a target=\"_blank\" href=https://colab.research.google.com/notebooks/data_table.ipynb>data table notebook</a>'\n",
              "            + ' to learn more about interactive tables.';\n",
              "          element.innerHTML = '';\n",
              "          dataTable['output_type'] = 'display_data';\n",
              "          await google.colab.output.renderOutput(dataTable, element);\n",
              "          const docLink = document.createElement('div');\n",
              "          docLink.innerHTML = docLinkHtml;\n",
              "          element.appendChild(docLink);\n",
              "        }\n",
              "      </script>\n",
              "    </div>\n",
              "  </div>\n",
              "  "
            ]
          },
          "metadata": {},
          "execution_count": 9
        }
      ],
      "source": [
        "tweets_data.head(15)"
      ]
    },
    {
      "cell_type": "code",
      "execution_count": 10,
      "metadata": {
        "colab": {
          "base_uri": "https://localhost:8080/",
          "height": 38
        },
        "id": "ulW5nHEiOQNl",
        "outputId": "a53624fb-c969-4893-d155-5d973eb783cb"
      },
      "outputs": [
        {
          "output_type": "execute_result",
          "data": {
            "text/plain": [
              "'@dannycastillo We want to trade with someone who has Houston tickets, but no one will.'"
            ],
            "application/vnd.google.colaboratory.intrinsic+json": {
              "type": "string"
            }
          },
          "metadata": {},
          "execution_count": 10
        }
      ],
      "source": [
        "tweets_data['content'][4]"
      ]
    },
    {
      "cell_type": "code",
      "source": [
        "tweets_data.isna().sum()"
      ],
      "metadata": {
        "colab": {
          "base_uri": "https://localhost:8080/"
        },
        "id": "hGud23QzQAwt",
        "outputId": "dcd7cbd9-df30-49ef-af21-4f42179dd251"
      },
      "execution_count": 11,
      "outputs": [
        {
          "output_type": "execute_result",
          "data": {
            "text/plain": [
              "tweet_id     0\n",
              "sentiment    0\n",
              "content      0\n",
              "dtype: int64"
            ]
          },
          "metadata": {},
          "execution_count": 11
        }
      ]
    },
    {
      "cell_type": "code",
      "execution_count": 12,
      "metadata": {
        "id": "xwqaU66_OUPG"
      },
      "outputs": [],
      "source": [
        "# tweets_data['sentiment'][1]"
      ]
    },
    {
      "cell_type": "code",
      "execution_count": 13,
      "metadata": {
        "colab": {
          "base_uri": "https://localhost:8080/"
        },
        "id": "W637aCZkObvI",
        "outputId": "a72e6d87-a9b0-4804-94a4-3aa1b380a7e6"
      },
      "outputs": [
        {
          "output_type": "execute_result",
          "data": {
            "text/plain": [
              "worry         4660\n",
              "sadness       3329\n",
              "neutral       2799\n",
              "surprise       812\n",
              "hate           783\n",
              "happiness      686\n",
              "love           584\n",
              "fun            335\n",
              "relief         335\n",
              "empty          313\n",
              "enthusiasm     196\n",
              "boredom        103\n",
              "anger           64\n",
              "Name: sentiment, dtype: int64"
            ]
          },
          "metadata": {},
          "execution_count": 13
        }
      ],
      "source": [
        "tweets_data['sentiment'].value_counts()"
      ]
    },
    {
      "cell_type": "code",
      "execution_count": 14,
      "metadata": {
        "id": "4DzD0FDTLNpK"
      },
      "outputs": [],
      "source": [
        "tweets_data=tweets_data.drop('tweet_id',axis=1)\n",
        "X=tweets_data.drop('sentiment',axis=1)\n",
        "y=tweets_data['sentiment']"
      ]
    },
    {
      "cell_type": "code",
      "source": [
        "### encode y\n",
        "from sklearn.preprocessing import OrdinalEncoder\n",
        "oe=OrdinalEncoder()\n",
        "y=y.values.reshape(-1,1)\n",
        "y=oe.fit_transform(y)"
      ],
      "metadata": {
        "id": "swYV6TPjV-Mc"
      },
      "execution_count": 15,
      "outputs": []
    },
    {
      "cell_type": "code",
      "execution_count": 16,
      "metadata": {
        "id": "ei3JFdj5LNpL"
      },
      "outputs": [],
      "source": [
        "from sklearn.model_selection import train_test_split\n",
        "\n",
        "X_train, X_test, y_train,y_test = train_test_split(X,y,test_size=0.2, random_state=1)"
      ]
    },
    {
      "cell_type": "code",
      "source": [
        "X_train.shape"
      ],
      "metadata": {
        "colab": {
          "base_uri": "https://localhost:8080/"
        },
        "id": "_2peNG1O9-4z",
        "outputId": "df3030d5-4fe1-4bfc-f2d1-56857e9eec5e"
      },
      "execution_count": 17,
      "outputs": [
        {
          "output_type": "execute_result",
          "data": {
            "text/plain": [
              "(11999, 1)"
            ]
          },
          "metadata": {},
          "execution_count": 17
        }
      ]
    },
    {
      "cell_type": "code",
      "execution_count": 18,
      "metadata": {
        "colab": {
          "base_uri": "https://localhost:8080/"
        },
        "id": "t811NvOorF2e",
        "outputId": "6b9d836c-43f0-4461-eb0e-d89fd313f35c"
      },
      "outputs": [
        {
          "output_type": "stream",
          "name": "stderr",
          "text": [
            "[nltk_data] Downloading package punkt to /root/nltk_data...\n",
            "[nltk_data]   Unzipping tokenizers/punkt.zip.\n",
            "[nltk_data] Downloading package stopwords to /root/nltk_data...\n",
            "[nltk_data]   Unzipping corpora/stopwords.zip.\n",
            "[nltk_data] Downloading package wordnet to /root/nltk_data...\n",
            "[nltk_data] Downloading package averaged_perceptron_tagger to\n",
            "[nltk_data]     /root/nltk_data...\n",
            "[nltk_data]   Unzipping taggers/averaged_perceptron_tagger.zip.\n"
          ]
        },
        {
          "output_type": "execute_result",
          "data": {
            "text/plain": [
              "True"
            ]
          },
          "metadata": {},
          "execution_count": 18
        }
      ],
      "source": [
        "import nltk\n",
        "nltk.download('punkt')\n",
        "nltk.download('stopwords')\n",
        "nltk.download('wordnet')\n",
        "nltk.download('averaged_perceptron_tagger')"
      ]
    },
    {
      "cell_type": "code",
      "execution_count": 19,
      "metadata": {
        "id": "bvgU_zqwLNpM"
      },
      "outputs": [],
      "source": [
        "from bs4 import BeautifulSoup\n",
        "import re\n",
        "#Removing the html strips\n",
        "def strip_html(text):\n",
        "    soup = BeautifulSoup(text, \"html.parser\")\n",
        "    return soup.get_text()\n",
        "\n",
        "#Removing the square brackets\n",
        "def remove_between_square_brackets(text):\n",
        "    return re.sub('\\[[^]]*\\]', '', text)\n",
        "\n",
        "#Removing the noisy text\n",
        "def denoise_text(text):\n",
        "    text = strip_html(text)\n",
        "    text = remove_between_square_brackets(text)\n",
        "    return text\n",
        "\n",
        "\n",
        "#Define function for removing special characters\n",
        "def remove_special_characters(text, remove_digits=True):\n",
        "    pattern=r'[^a-zA-z0-9\\s]'\n",
        "    text=re.sub(pattern,'',text)\n",
        "    text = re.sub(r\"[^A-Za-z0-9^,!.\\/'+-=]\", \" \", text)\n",
        "    text = re.sub(r\"what's\", \"what is \", text)\n",
        "    text = re.sub(r\"\\'s\", \" \", text)\n",
        "    text = re.sub(r\"\\'ve\", \" have \", text)\n",
        "    text = re.sub(r\"can't\", \"cannot \", text)\n",
        "    text = re.sub(r\"n't\", \" not \", text)\n",
        "    text = re.sub(r\"I'm\", \"i am \", text)\n",
        "    text = re.sub(r\"\\'re\", \" are \", text)\n",
        "    text = re.sub(r\"\\'d\", \" would \", text)\n",
        "    text = re.sub(r\"\\'ll\", \" will \", text)\n",
        "    text = re.sub(r\",\", \" \", text)\n",
        "    text = re.sub(r\"\\.\", \" \", text)\n",
        "    text = re.sub(r\"!\", \" ! \", text)\n",
        "    text = re.sub(r\"\\^^\", \"\", text)\n",
        "    text = re.sub(r\"\\/\", \" \", text)\n",
        "    text = re.sub(r\"\\^\", \" ^ \", text)\n",
        "    text = re.sub(r\"\\+\", \" + \", text)\n",
        "    text = re.sub(r\"\\-\", \" - \", text)\n",
        "    text = re.sub(r\"\\=\", \" = \", text)\n",
        "    text = re.sub(r\"'\", \" \", text)\n",
        "    text = re.sub(r\"(\\d+)(k)\", r\"\\g<1>000\", text)\n",
        "    text = re.sub(r\":\", \" : \", text)\n",
        "    text = re.sub(r\" e g \", \" eg \", text)\n",
        "    text = re.sub(r\" b g \", \" bg \", text)\n",
        "    text = re.sub(r\" u s \", \" american \", text)\n",
        "    text = re.sub(r\"\\0s\", \"0\", text)\n",
        "    text = re.sub(r\" 9 11 \", \"911\", text)\n",
        "    text = re.sub(r\"e - mail\", \"email\", text)\n",
        "    text = re.sub(r\"j k\", \"jk\", text)\n",
        "    text = re.sub(r\"\\s{2,}\", \" \", text)\n",
        "    return text\n",
        "\n",
        "def lemmatize_text(text):\n",
        "    lem=nltk.stem.wordnet.WordNetLemmatizer()\n",
        "    text= ' '.join([lem.lemmatize(word) for word in text.split()])\n",
        "    return text\n",
        ""
      ]
    },
    {
      "cell_type": "code",
      "execution_count": 20,
      "metadata": {
        "id": "6-KBTC87OmV7"
      },
      "outputs": [],
      "source": [
        "from sklearn.base import BaseEstimator, TransformerMixin\n",
        "from sklearn.pipeline import FeatureUnion, Pipeline\n",
        "from gensim.utils import simple_preprocess\n",
        "from sklearn.feature_extraction.text import TfidfVectorizer\n",
        "from sklearn.feature_extraction.text import CountVectorizer\n",
        "from nltk.tokenize import word_tokenize\n",
        "\n",
        "class DummyTransformer(BaseEstimator,TransformerMixin):\n",
        "\n",
        "    '''\n",
        "    dummy class to inherit from to avoid typing the fit method for everything\n",
        "    '''\n",
        "    def __init__(self):\n",
        "        return None\n",
        "    def fit(self,X=None,y=None):\n",
        "        return self\n",
        "    def transform(self,X=None):\n",
        "        return X\n",
        "\n",
        "def do_basic_text_preprocessing(text:str):\n",
        "    preprocessed_text=denoise_text(text)\n",
        "    preprocessed_text=remove_special_characters(preprocessed_text)\n",
        "    preprocessed_text=lemmatize_text(preprocessed_text)\n",
        "\n",
        "    return preprocessed_text\n",
        "\n",
        "class TextPreprocessor(DummyTransformer):\n",
        "    def transform(self,X:pd.DataFrame):\n",
        "#         preprocessed_X_np_array=X.apply(do_basic_text_preprocessing).values\n",
        "        # preprocessed_X_nparr=X['content'].apply(lambda x:do_basic_text_preprocessing(x)).values\n",
        "        preprocessed_X_df=X['content'].apply(lambda x:do_basic_text_preprocessing(x))\n",
        "        return preprocessed_X_df\n",
        "\n",
        "class Tokenizer(DummyTransformer):\n",
        "    def transform(self, X):\n",
        "        X=pd.DataFrame(X)\n",
        "        # print(X.info())\n",
        "        # print(X)\n",
        "        X_tokenized=X['content'].apply(lambda x:simple_preprocess(x))\n",
        "        # X_tokenized=X.apply(word_tokenize,axis=0) ## requires downloading punkt\n",
        "        # print(X_tokenized)\n",
        "        return X_tokenized\n",
        "\n",
        "class SparseToDenseArr(DummyTransformer):\n",
        "    def transform(self,X=None):\n",
        "#         preprocessed_X_np_array=X.apply(do_basic_text_preprocessing).values\n",
        "        dense_arr=X.toarray()\n",
        "\n",
        "        return dense_arr\n",
        "\n",
        "class MetaFeatureEngineer(DummyTransformer):\n",
        "    def transform(self, X=None,y=None):\n",
        "        return None\n",
        "\n",
        "tfidf_meta_union_inst=FeatureUnion([('tfidf',TfidfVectorizer()),('metafeature',MetaFeatureEngineer())])\n",
        "\n",
        "tfidf_pipeline=Pipeline([('textpreprocessor',TextPreprocessor()),('main',tfidf_meta_union_inst),('sparsetodense',SparseToDenseArr())])\n",
        "\n",
        "# tfidf_pipeline=Pipeline([('textpreprocessor',TextPreprocessor()),('tfidf',TfidfVectorizer()),('sparsetodense',SparseToDenseArr())])\n",
        "\n",
        "\n",
        "bow_meta_union_inst=FeatureUnion([('count',CountVectorizer()),('metafeature',MetaFeatureEngineer())])\n",
        "\n",
        "bow_pipeline=Pipeline([('textpreprocessor',TextPreprocessor()),('main',bow_meta_union_inst),('sparsetodense',SparseToDenseArr())])\n",
        "\n",
        "\n"
      ]
    },
    {
      "cell_type": "code",
      "execution_count": 21,
      "metadata": {
        "id": "l5QeS7fn_z0N"
      },
      "outputs": [],
      "source": [
        "### word2vec\n",
        "from gensim.models import Word2Vec\n",
        "from gensim.models import KeyedVectors\n",
        "\n",
        "class CustomWord2VecTransformer(DummyTransformer):\n",
        "    def __init__(self,**kwargs):\n",
        "        self.input_args=kwargs\n",
        "\n",
        "    def fit(self,X,y=None):\n",
        "        self.w2v_model=Word2Vec(X,**self.input_args)\n",
        "\n",
        "        return self\n",
        "\n",
        "    def get_mean_embedding_for_doc(self,doc_tokens):\n",
        "        model=self.w2v_model\n",
        "        embeddings=[]\n",
        "        for tok in doc_tokens:\n",
        "            if tok in model.wv.index_to_key:\n",
        "                embeddings.append(model.wv.get_vector(tok))\n",
        "        return np.mean(embeddings,axis=0)\n",
        "\n",
        "    # def transform(self, X): ## troubleshot transform function\n",
        "    #     print('before  ',X.shape)\n",
        "\n",
        "    #     X_transformed=X.apply(lambda x:self.get_mean_embedding_for_doc(x))\n",
        "    #     print(X_transformed)\n",
        "    #     print(X_transformed.shape)\n",
        "    #     # X_transformed=pd.DataFrame(X_transformed.tolist())\n",
        "    #     # print(X_transformed)\n",
        "    #     return X_transformed\n",
        "\n",
        "    def transform(self, X): ### real transform\n",
        "        print('before  ',X.shape)\n",
        "\n",
        "        X_transformed=X.apply(lambda x:self.get_mean_embedding_for_doc(x))\n",
        "        print(X_transformed)\n",
        "        print(X_transformed.shape)\n",
        "        X_transformed=pd.DataFrame(X_transformed.tolist())\n",
        "        # print(X_transformed)\n",
        "        return X_transformed\n",
        "\n",
        "\n",
        "class GoogleWord2VecTransformer(DummyTransformer):\n",
        "    def __init__(self,*args,**kwargs):\n",
        "        self.w2vmodel=KeyedVectors.load_word2vec_format(*args,**kwargs)\n",
        "\n",
        "        self.input_args=kwargs\n",
        "\n",
        "\n",
        "    def fit(self,X,y=None):\n",
        "\n",
        "        return self\n",
        "\n",
        "    def get_mean_embedding_for_doc(self,doc_tokens):\n",
        "        model=self.w2vmodel\n",
        "        embeddings=[]\n",
        "        for tok in doc_tokens:\n",
        "            if tok in model:\n",
        "                embeddings.append(model[tok])\n",
        "        return np.mean(embeddings,axis=0)\n",
        "\n",
        "\n",
        "    def transform(self, X):\n",
        "        X_transformed=X.apply(lambda x:self.get_mean_embedding_for_doc(x))\n",
        "\n",
        "\n",
        "        X_transformed=pd.DataFrame(X_transformed.tolist())\n",
        "        return X_transformed\n",
        "\n",
        "\n"
      ]
    },
    {
      "cell_type": "code",
      "execution_count": 22,
      "metadata": {
        "id": "GUsKjP5M5mlm",
        "colab": {
          "base_uri": "https://localhost:8080/",
          "height": 73
        },
        "outputId": "2fd34b26-1dbd-4282-994d-29bd246dfe6b"
      },
      "outputs": [
        {
          "output_type": "execute_result",
          "data": {
            "text/plain": [
              "'\\n# google_meta_union_inst=FeatureUnion([\\n#     (\\'google\\',GoogleWord2VecTransformer(\"/content/drive/MyDrive/ml-ai files arjun/GoogleNews-vectors-negative300.bin\",binary=True)),\\n#     (\\'metafeature\\',MetaFeatureEngineer())])\\n'"
            ],
            "application/vnd.google.colaboratory.intrinsic+json": {
              "type": "string"
            }
          },
          "metadata": {},
          "execution_count": 22
        }
      ],
      "source": [
        "'''\n",
        "# google_meta_union_inst=FeatureUnion([\n",
        "#     ('google',GoogleWord2VecTransformer(\"/content/drive/MyDrive/ml-ai files arjun/GoogleNews-vectors-negative300.bin\",binary=True)),\n",
        "#     ('metafeature',MetaFeatureEngineer())])\n",
        "'''\n",
        "\n",
        "# from google.colab import drive\n",
        "# drive.mount('/content/drive')\n",
        "# google_trans_inst=GoogleWord2VecTransformer(f\"{drive_project_folder_path}/GoogleNews-vectors-negative300.bin\",binary=True)\n"
      ]
    },
    {
      "cell_type": "code",
      "source": [
        "# from google.colab import drive\n",
        "# drive.mount('/content/drive')"
      ],
      "metadata": {
        "id": "m_4Hv6hZ6T-r"
      },
      "execution_count": 23,
      "outputs": []
    },
    {
      "cell_type": "code",
      "execution_count": 24,
      "metadata": {
        "id": "53abysqYbRlT"
      },
      "outputs": [],
      "source": [
        "# google_pipeline=Pipeline([('textpreprocessor',TextPreprocessor()),('tokenizer',Tokenizer()),('main',google_trans_inst)])\n",
        "cbow_custom_w2v_pipeline=Pipeline([('textpreprocessor',TextPreprocessor()),('tokenizer',Tokenizer()),('main',CustomWord2VecTransformer(vector_size = 300, window = 6 , min_count = 3, sg = 0))])\n",
        "skgram_w2v_pipeline=cbow_custom_w2v_pipeline.set_params(main=CustomWord2VecTransformer(vector_size = 300, window = 6 , min_count = 3, sg = 1))"
      ]
    },
    {
      "cell_type": "code",
      "source": [
        "prepro_pipe=Pipeline([('textpreprocessor',TextPreprocessor()),('tokenizer',Tokenizer())])\n",
        "\n",
        "X_trans=prepro_pipe.fit_transform(X_train)\n",
        "X_trans.shape\n"
      ],
      "metadata": {
        "colab": {
          "base_uri": "https://localhost:8080/"
        },
        "id": "bKVCmwW5_ZNi",
        "outputId": "d2df5ea3-2d06-4b2f-fc1e-0bad88665f5b"
      },
      "execution_count": 25,
      "outputs": [
        {
          "output_type": "stream",
          "name": "stderr",
          "text": [
            "<ipython-input-19-528d8e3112de>:5: MarkupResemblesLocatorWarning: The input looks more like a filename than markup. You may want to open this file and pass the filehandle into Beautiful Soup.\n",
            "  soup = BeautifulSoup(text, \"html.parser\")\n"
          ]
        },
        {
          "output_type": "execute_result",
          "data": {
            "text/plain": [
              "(11999,)"
            ]
          },
          "metadata": {},
          "execution_count": 25
        }
      ]
    },
    {
      "cell_type": "code",
      "source": [
        "# cus=CustomWord2VecTransformer(vector_size = 300, window = 6 , min_count = 3, sg = 0)\n",
        "# x_cus=cus.fit_transform(X_trans)"
      ],
      "metadata": {
        "id": "jHwHNF9nAXIF"
      },
      "execution_count": 26,
      "outputs": []
    },
    {
      "cell_type": "code",
      "source": [
        "from sklearn.metrics import accuracy_score\n",
        "from sklearn.tree import DecisionTreeClassifier\n",
        "from sklearn.linear_model import LogisticRegression\n",
        "from sklearn.naive_bayes import GaussianNB\n",
        "\n",
        "\n",
        "result_dict={}"
      ],
      "metadata": {
        "id": "nHffagy4Dgwe"
      },
      "execution_count": 27,
      "outputs": []
    },
    {
      "cell_type": "code",
      "source": [
        "\n",
        "\n",
        "# pipelines=[tfidf_pipeline,bow_pipeline,google_pipeline,cbow_custom_w2v_pipeline,skgram_w2v_pipeline]\n",
        "# pipeline_names=['tfidf_pipeline','bow_pipeline','google_pipeline','cbow_custom_w2v_pipeline','skgram_w2v_pipeline']\n",
        "\n",
        "pipelines=[bow_pipeline] ## testing\n",
        "pipeline_names=['bow_pipeline']\n",
        "\n",
        "\n",
        "count=0\n",
        "for pipe in pipelines:\n",
        "    pipe_name=pipeline_names[count]\n",
        "    X_train_transformed=pipe.fit_transform(X_train)\n",
        "    X_test_transformed=pipe.transform(X_test)\n",
        "    X_train_to_use=X_train_transformed\n",
        "    X_test_to_use=X_test_transformed\n",
        "    y_train_to_use=y_train\n",
        "    y_test_to_use=y_test\n",
        "    print(pipe_name)\n",
        "    # type(pipe[\"main\"]).__name__\n",
        "    # algo_insts=[GaussianNB(),DecisionTreeClassifier(),LogisticRegression()] ##\n",
        "    algo_insts=[LogisticRegression()] ##\n",
        "\n",
        "    count+=1\n",
        "    for algo_inst in algo_insts:\n",
        "        algo_inst.fit(X_train_to_use, y_train_to_use)\n",
        "        y_pred=algo_inst.predict(X_test_to_use)\n",
        "        result_dict.update({f'{pipe_name}_{type(algo_inst).__name__}':{'accuracy':accuracy_score(y_pred,y_test_to_use)}})\n",
        "pd.DataFrame(result_dict).transpose()\n",
        "\n"
      ],
      "metadata": {
        "colab": {
          "base_uri": "https://localhost:8080/",
          "height": 160
        },
        "id": "hrPDxFEPzl3p",
        "outputId": "039dcc67-1eaa-41a7-8f38-1f99232ed9f6"
      },
      "execution_count": 28,
      "outputs": [
        {
          "output_type": "execute_result",
          "data": {
            "text/plain": [
              "'\\npipelines=[bow_pipeline]\\npipeline_names=[\\'bow_pipeline\\']\\n\\n\\ncount=0\\nfor pipe in pipelines:\\n    pipe_name=pipeline_names[count]\\n    X_train_transformed=pipe.fit_transform(X_train)\\n    X_test_transformed=pipe.transform(X_test)\\n    X_train_to_use=X_train_transformed\\n    X_test_to_use=X_test_transformed\\n    y_train_to_use=y_train\\n    y_test_to_use=y_test\\n    print(pipe_name)\\n    # type(pipe[\"main\"]).__name__\\n    # algo_insts=[GaussianNB(),DecisionTreeClassifier(),LogisticRegression()] ## \\n    algo_insts=[LogisticRegression()] ## \\n\\n    count+=1\\n    for algo_inst in algo_insts:\\n        algo_inst.fit(X_train_to_use, y_train_to_use)\\n        y_pred=algo_inst.predict(X_test_to_use)\\n        result_dict.update({f\\'{pipe_name}_{type(algo_inst).__name__}\\':{\\'accuracy\\':accuracy_score(y_pred,y_test_to_use)}})\\npd.DataFrame(result_dict).transpose()\\n\\n'"
            ],
            "application/vnd.google.colaboratory.intrinsic+json": {
              "type": "string"
            }
          },
          "metadata": {},
          "execution_count": 28
        }
      ]
    },
    {
      "cell_type": "code",
      "source": [
        "nltk.download(\"punkt\")\n",
        "from nltk.tokenize import word_tokenize\n",
        "from nltk import FreqDist\n",
        "from tensorflow.keras.preprocessing.text import Tokenizer\n",
        "from tensorflow.keras.preprocessing import sequence\n",
        "\n",
        "text_col=X['content']\n",
        "all_words = \" \".join(text_col)\n",
        "all_words = word_tokenize(all_words)\n",
        "dist = FreqDist(all_words)\n",
        "del all_words\n",
        "num_unique_word = len(dist)\n",
        "\n",
        "### get max words per document\n",
        "r_len = []\n",
        "\n",
        "for text in X:\n",
        "    word = word_tokenize(text)\n",
        "    l = len(word)\n",
        "    r_len.append(l)\n",
        "\n",
        "MAX_TWEET_LEN = np.max(r_len)\n",
        "del r_len\n",
        "class TensorflowTokenizer(DummyTransformer):\n",
        "    def transform(self,X=None):\n",
        "        # text_col=X['content']\n",
        "        text_col=X\n",
        "        tokenizer = Tokenizer(num_words = num_unique_word)\n",
        "        tokenizer.fit_on_texts(list(text_col))\n",
        "        text_col= tokenizer.texts_to_sequences(text_col)\n",
        "        text_col = sequence.pad_sequences(text_col, MAX_TWEET_LEN)\n",
        "        return text_col\n",
        "\n",
        "keras_pipe= Pipeline([('textpreprocessor',TextPreprocessor()),('tensorflowtokenizer',TensorflowTokenizer())])\n",
        "\n",
        "pipe = keras_pipe\n",
        "X_train_transformed=pipe.fit_transform(X_train)\n",
        "X_test_transformed=pipe.transform(X_test)\n",
        "X_train_to_use=X_train_transformed\n",
        "X_test_to_use=X_test_transformed\n",
        "y_train_to_use=y_train\n",
        "y_test_to_use=y_test\n",
        "\n"
      ],
      "metadata": {
        "colab": {
          "base_uri": "https://localhost:8080/"
        },
        "id": "XtD9EZJqKJkD",
        "outputId": "8d26d7cb-7a9a-40c6-c5fe-5621dd42bc2e"
      },
      "execution_count": 31,
      "outputs": [
        {
          "output_type": "stream",
          "name": "stderr",
          "text": [
            "[nltk_data] Downloading package punkt to /root/nltk_data...\n",
            "[nltk_data]   Package punkt is already up-to-date!\n",
            "<ipython-input-19-528d8e3112de>:5: MarkupResemblesLocatorWarning: The input looks more like a filename than markup. You may want to open this file and pass the filehandle into Beautiful Soup.\n",
            "  soup = BeautifulSoup(text, \"html.parser\")\n"
          ]
        }
      ]
    },
    {
      "cell_type": "code",
      "source": [
        "from tensorflow.keras.models import Sequential\n",
        "from tensorflow.keras.layers import LSTM, Dense, Dropout, Embedding,Flatten"
      ],
      "metadata": {
        "id": "Orn-V3kEQ5hB"
      },
      "execution_count": 51,
      "outputs": []
    },
    {
      "cell_type": "code",
      "source": [
        "model = Sequential()\n",
        "model.add(Embedding(input_dim = num_unique_word, output_dim = 150, input_length = MAX_TWEET_LEN))\n",
        "\n",
        "model.add(LSTM(128, dropout = 0.2 ))\n",
        "\n",
        "model.add(Dense(num_targets, activation = \"softmax\"))\n",
        "model.add(Flatten())"
      ],
      "metadata": {
        "id": "o53ZZIOWQvVq"
      },
      "execution_count": 52,
      "outputs": []
    },
    {
      "cell_type": "code",
      "source": [
        "# y_train_to_use=y_train_to_use.astype(np.int).flatten()\n",
        "\n",
        "y_train_to_use = np.asarray(y_train_to_use).astype('float32').reshape((-1,1))\n",
        "y_train_to_use"
      ],
      "metadata": {
        "colab": {
          "base_uri": "https://localhost:8080/"
        },
        "id": "hbaN-o8mZeuD",
        "outputId": "104c25ac-0012-4934-dc49-554bff5cb095"
      },
      "execution_count": 58,
      "outputs": [
        {
          "output_type": "execute_result",
          "data": {
            "text/plain": [
              "array([[10.],\n",
              "       [10.],\n",
              "       [10.],\n",
              "       ...,\n",
              "       [12.],\n",
              "       [10.],\n",
              "       [ 7.]], dtype=float32)"
            ]
          },
          "metadata": {},
          "execution_count": 58
        }
      ]
    },
    {
      "cell_type": "code",
      "source": [
        "model.compile(loss = \"categorical_crossentropy\", optimizer = \"adam\", metrics = ['accuracy'])\n",
        "history1 = model.fit(X_train_to_use, y_train_to_use, epochs = 60, batch_size = 32)"
      ],
      "metadata": {
        "colab": {
          "base_uri": "https://localhost:8080/",
          "height": 764
        },
        "id": "kkyPNfz3RAlU",
        "outputId": "1d00b0a2-f5ce-4a93-9d7e-2cddd14b90d4"
      },
      "execution_count": 59,
      "outputs": [
        {
          "output_type": "stream",
          "name": "stdout",
          "text": [
            "Epoch 1/60\n"
          ]
        },
        {
          "output_type": "error",
          "ename": "ValueError",
          "evalue": "ignored",
          "traceback": [
            "\u001b[0;31m---------------------------------------------------------------------------\u001b[0m",
            "\u001b[0;31mValueError\u001b[0m                                Traceback (most recent call last)",
            "\u001b[0;32m<ipython-input-59-4e654a918688>\u001b[0m in \u001b[0;36m<cell line: 2>\u001b[0;34m()\u001b[0m\n\u001b[1;32m      1\u001b[0m \u001b[0mmodel\u001b[0m\u001b[0;34m.\u001b[0m\u001b[0mcompile\u001b[0m\u001b[0;34m(\u001b[0m\u001b[0mloss\u001b[0m \u001b[0;34m=\u001b[0m \u001b[0;34m\"categorical_crossentropy\"\u001b[0m\u001b[0;34m,\u001b[0m \u001b[0moptimizer\u001b[0m \u001b[0;34m=\u001b[0m \u001b[0;34m\"adam\"\u001b[0m\u001b[0;34m,\u001b[0m \u001b[0mmetrics\u001b[0m \u001b[0;34m=\u001b[0m \u001b[0;34m[\u001b[0m\u001b[0;34m'accuracy'\u001b[0m\u001b[0;34m]\u001b[0m\u001b[0;34m)\u001b[0m\u001b[0;34m\u001b[0m\u001b[0;34m\u001b[0m\u001b[0m\n\u001b[0;32m----> 2\u001b[0;31m \u001b[0mhistory1\u001b[0m \u001b[0;34m=\u001b[0m \u001b[0mmodel\u001b[0m\u001b[0;34m.\u001b[0m\u001b[0mfit\u001b[0m\u001b[0;34m(\u001b[0m\u001b[0mX_train_to_use\u001b[0m\u001b[0;34m,\u001b[0m \u001b[0my_train_to_use\u001b[0m\u001b[0;34m,\u001b[0m \u001b[0mepochs\u001b[0m \u001b[0;34m=\u001b[0m \u001b[0;36m60\u001b[0m\u001b[0;34m,\u001b[0m \u001b[0mbatch_size\u001b[0m \u001b[0;34m=\u001b[0m \u001b[0;36m32\u001b[0m\u001b[0;34m)\u001b[0m\u001b[0;34m\u001b[0m\u001b[0;34m\u001b[0m\u001b[0m\n\u001b[0m",
            "\u001b[0;32m/usr/local/lib/python3.10/dist-packages/keras/utils/traceback_utils.py\u001b[0m in \u001b[0;36merror_handler\u001b[0;34m(*args, **kwargs)\u001b[0m\n\u001b[1;32m     68\u001b[0m             \u001b[0;31m# To get the full stack trace, call:\u001b[0m\u001b[0;34m\u001b[0m\u001b[0;34m\u001b[0m\u001b[0m\n\u001b[1;32m     69\u001b[0m             \u001b[0;31m# `tf.debugging.disable_traceback_filtering()`\u001b[0m\u001b[0;34m\u001b[0m\u001b[0;34m\u001b[0m\u001b[0m\n\u001b[0;32m---> 70\u001b[0;31m             \u001b[0;32mraise\u001b[0m \u001b[0me\u001b[0m\u001b[0;34m.\u001b[0m\u001b[0mwith_traceback\u001b[0m\u001b[0;34m(\u001b[0m\u001b[0mfiltered_tb\u001b[0m\u001b[0;34m)\u001b[0m \u001b[0;32mfrom\u001b[0m \u001b[0;32mNone\u001b[0m\u001b[0;34m\u001b[0m\u001b[0;34m\u001b[0m\u001b[0m\n\u001b[0m\u001b[1;32m     71\u001b[0m         \u001b[0;32mfinally\u001b[0m\u001b[0;34m:\u001b[0m\u001b[0;34m\u001b[0m\u001b[0;34m\u001b[0m\u001b[0m\n\u001b[1;32m     72\u001b[0m             \u001b[0;32mdel\u001b[0m \u001b[0mfiltered_tb\u001b[0m\u001b[0;34m\u001b[0m\u001b[0;34m\u001b[0m\u001b[0m\n",
            "\u001b[0;32m/usr/local/lib/python3.10/dist-packages/keras/engine/training.py\u001b[0m in \u001b[0;36mtf__train_function\u001b[0;34m(iterator)\u001b[0m\n\u001b[1;32m     13\u001b[0m                 \u001b[0;32mtry\u001b[0m\u001b[0;34m:\u001b[0m\u001b[0;34m\u001b[0m\u001b[0;34m\u001b[0m\u001b[0m\n\u001b[1;32m     14\u001b[0m                     \u001b[0mdo_return\u001b[0m \u001b[0;34m=\u001b[0m \u001b[0;32mTrue\u001b[0m\u001b[0;34m\u001b[0m\u001b[0;34m\u001b[0m\u001b[0m\n\u001b[0;32m---> 15\u001b[0;31m                     \u001b[0mretval_\u001b[0m \u001b[0;34m=\u001b[0m \u001b[0mag__\u001b[0m\u001b[0;34m.\u001b[0m\u001b[0mconverted_call\u001b[0m\u001b[0;34m(\u001b[0m\u001b[0mag__\u001b[0m\u001b[0;34m.\u001b[0m\u001b[0mld\u001b[0m\u001b[0;34m(\u001b[0m\u001b[0mstep_function\u001b[0m\u001b[0;34m)\u001b[0m\u001b[0;34m,\u001b[0m \u001b[0;34m(\u001b[0m\u001b[0mag__\u001b[0m\u001b[0;34m.\u001b[0m\u001b[0mld\u001b[0m\u001b[0;34m(\u001b[0m\u001b[0mself\u001b[0m\u001b[0;34m)\u001b[0m\u001b[0;34m,\u001b[0m \u001b[0mag__\u001b[0m\u001b[0;34m.\u001b[0m\u001b[0mld\u001b[0m\u001b[0;34m(\u001b[0m\u001b[0miterator\u001b[0m\u001b[0;34m)\u001b[0m\u001b[0;34m)\u001b[0m\u001b[0;34m,\u001b[0m \u001b[0;32mNone\u001b[0m\u001b[0;34m,\u001b[0m \u001b[0mfscope\u001b[0m\u001b[0;34m)\u001b[0m\u001b[0;34m\u001b[0m\u001b[0;34m\u001b[0m\u001b[0m\n\u001b[0m\u001b[1;32m     16\u001b[0m                 \u001b[0;32mexcept\u001b[0m\u001b[0;34m:\u001b[0m\u001b[0;34m\u001b[0m\u001b[0;34m\u001b[0m\u001b[0m\n\u001b[1;32m     17\u001b[0m                     \u001b[0mdo_return\u001b[0m \u001b[0;34m=\u001b[0m \u001b[0;32mFalse\u001b[0m\u001b[0;34m\u001b[0m\u001b[0;34m\u001b[0m\u001b[0m\n",
            "\u001b[0;31mValueError\u001b[0m: in user code:\n\n    File \"/usr/local/lib/python3.10/dist-packages/keras/engine/training.py\", line 1284, in train_function  *\n        return step_function(self, iterator)\n    File \"/usr/local/lib/python3.10/dist-packages/keras/engine/training.py\", line 1268, in step_function  **\n        outputs = model.distribute_strategy.run(run_step, args=(data,))\n    File \"/usr/local/lib/python3.10/dist-packages/keras/engine/training.py\", line 1249, in run_step  **\n        outputs = model.train_step(data)\n    File \"/usr/local/lib/python3.10/dist-packages/keras/engine/training.py\", line 1051, in train_step\n        loss = self.compute_loss(x, y, y_pred, sample_weight)\n    File \"/usr/local/lib/python3.10/dist-packages/keras/engine/training.py\", line 1109, in compute_loss\n        return self.compiled_loss(\n    File \"/usr/local/lib/python3.10/dist-packages/keras/engine/compile_utils.py\", line 265, in __call__\n        loss_value = loss_obj(y_t, y_p, sample_weight=sw)\n    File \"/usr/local/lib/python3.10/dist-packages/keras/losses.py\", line 142, in __call__\n        losses = call_fn(y_true, y_pred)\n    File \"/usr/local/lib/python3.10/dist-packages/keras/losses.py\", line 268, in call  **\n        return ag_fn(y_true, y_pred, **self._fn_kwargs)\n    File \"/usr/local/lib/python3.10/dist-packages/keras/losses.py\", line 1984, in categorical_crossentropy\n        return backend.categorical_crossentropy(\n    File \"/usr/local/lib/python3.10/dist-packages/keras/backend.py\", line 5559, in categorical_crossentropy\n        target.shape.assert_is_compatible_with(output.shape)\n\n    ValueError: Shapes (None, 1) and (None, 13) are incompatible\n"
          ]
        }
      ]
    },
    {
      "cell_type": "code",
      "source": [
        "model.metrics_names"
      ],
      "metadata": {
        "id": "wqIH_RdGQi8g"
      },
      "execution_count": null,
      "outputs": []
    },
    {
      "cell_type": "code",
      "source": [
        "eval_result=model.evaluate(X_test_to_use,y_test_to_use)\n",
        "result_dict.update({f'keras':{'accuracy':eval_result}})\n",
        "\n",
        "pd.DataFrame(result_dict).transpose()['accuracy'].max()\n",
        "\n",
        "# pd.DataFrame(result_dict).transpose()"
      ],
      "metadata": {
        "id": "pzIFMTc2z0I7"
      },
      "execution_count": null,
      "outputs": []
    },
    {
      "cell_type": "code",
      "source": [
        "import pickle\n",
        "dbfile = open(f'{drive_project_folder_path}/pipelines.pkl', 'ab')\n",
        "\n",
        "pickle.dump(pipelines, dbfile)\n",
        "dbfile.close()\n",
        "\n",
        "\n",
        "dbfile = open(f'{drive_project_folder_path}/result_dict.pkl', 'ab')\n",
        "\n",
        "pickle.dump(result_dict, dbfile)\n",
        "dbfile.close()\n",
        "\n",
        "\n",
        "dbfile = open(f'{drive_project_folder_path}/history1.pkl', 'ab')\n",
        "\n",
        "pickle.dump(history1, dbfile)\n",
        "dbfile.close()\n"
      ],
      "metadata": {
        "id": "3X8ZvZ_7HN-z"
      },
      "execution_count": null,
      "outputs": []
    },
    {
      "cell_type": "code",
      "source": [
        "history1 = model.fit(X_train_to_use, y_train_to_use, epochs = 10, batch_size = 32)"
      ],
      "metadata": {
        "id": "IsKfXZzPTwEo"
      },
      "execution_count": null,
      "outputs": []
    },
    {
      "cell_type": "code",
      "source": [],
      "metadata": {
        "id": "G-Swhu8_VAsc"
      },
      "execution_count": null,
      "outputs": []
    },
    {
      "cell_type": "code",
      "source": [
        "eval_result=model.evaluate(X_test_to_use,y_test_to_use)\n",
        "result_dict.update({f'keras':{'accuracy':eval_result}})\n",
        "\n",
        "pd.DataFrame(result_dict).transpose()['accuracy'].max()"
      ],
      "metadata": {
        "id": "FlWHN8o8Ty-L"
      },
      "execution_count": null,
      "outputs": []
    },
    {
      "cell_type": "code",
      "source": [
        "import pickle\n",
        "dbfile = open(f'{drive_project_folder_path}/pipelines.pkl', 'ab')\n",
        "\n",
        "pickle.dump(pipelines, dbfile)\n",
        "dbfile.close()\n",
        "\n",
        "\n",
        "dbfile = open(f'{drive_project_folder_path}/result_dict.pkl', 'ab')\n",
        "\n",
        "pickle.dump(result_dict, dbfile)\n",
        "dbfile.close()\n",
        "\n",
        "\n",
        "dbfile = open(f'{drive_project_folder_path}/history1.pkl', 'ab')\n",
        "\n",
        "pickle.dump(history1, dbfile)\n",
        "dbfile.close()\n"
      ],
      "metadata": {
        "id": "Zh4ey5_uT1AM"
      },
      "execution_count": null,
      "outputs": []
    },
    {
      "cell_type": "markdown",
      "source": [],
      "metadata": {
        "id": "7bWXVIJwH4gh"
      }
    },
    {
      "cell_type": "code",
      "execution_count": null,
      "metadata": {
        "id": "uoRTwMI4LNpP"
      },
      "outputs": [],
      "source": [
        "\n",
        "# X_train_tfidf=custom_w2v_pipeline.fit_transform(X_train)\n",
        "# X_test_tfidf=custom_w2v_pipeline.transform(X_test)\n",
        "\n",
        "# X_train=TextPreprocessor().transform(X_train)"
      ]
    },
    {
      "cell_type": "code",
      "execution_count": null,
      "metadata": {
        "id": "_2YZPpH5LNpR"
      },
      "outputs": [],
      "source": [
        "# print(np.sum(X_train_tfidf >0))"
      ]
    },
    {
      "cell_type": "code",
      "execution_count": null,
      "metadata": {
        "id": "NNfCepzfTT54"
      },
      "outputs": [],
      "source": [
        "### pass parameters to Pipeline steps"
      ]
    },
    {
      "cell_type": "code",
      "execution_count": null,
      "metadata": {
        "id": "nC7OHsTbLNpR"
      },
      "outputs": [],
      "source": [
        "\n",
        "\n",
        "\n",
        "# algos=[('naive_bayes','GaussianNB'),('tree','DecisionTreeClassifier'),('linear_model','LogisticRegression')]\n",
        "# algos=[('linear_model','LogisticRegression')] ### why did i even do this?\n",
        "\n",
        "\n",
        "\n",
        "\n",
        "# for algo in algos:\n",
        "#     ## apparently the methods of the module are attributes of the obj outputted by import_module\n",
        "#     class_var=getattr(import_module(f'sklearn.{algo[0]}'),algo[1])\n",
        "#     clf=class_var()\n",
        "#     # clf=module.\n",
        "#     clf.fit(X_train_to_use, y_train_to_use)\n",
        "#     y_pred=clf.predict(X_test_to_use)\n",
        "#     result_dict.update({f'{type(clf).__name__}':{'accuracy':accuracy_score(y_pred,y_test_to_use)}})\n",
        "# pd.DataFrame(result_dict)"
      ]
    },
    {
      "cell_type": "code",
      "execution_count": null,
      "metadata": {
        "id": "JQk3x_TGOxLQ"
      },
      "outputs": [],
      "source": [
        "#### preprocess the text to that is in the required format for word2vec\n",
        "\n"
      ]
    },
    {
      "cell_type": "code",
      "execution_count": null,
      "metadata": {
        "id": "wmFBQDV4PixS"
      },
      "outputs": [],
      "source": [
        "# print(simple_preprocess(tweets_data['content'][1])[:30])"
      ]
    },
    {
      "cell_type": "code",
      "execution_count": null,
      "metadata": {
        "id": "HmJ6b2GgnJ8F"
      },
      "outputs": [],
      "source": [
        "### google accuracy 0.8118686868686869\n",
        "### cbow accuracy 0.8377525252525253\n"
      ]
    }
  ],
  "metadata": {
    "accelerator": "GPU",
    "colab": {
      "provenance": [],
      "gpuType": "T4"
    },
    "kernelspec": {
      "display_name": "Python 3",
      "name": "python3"
    },
    "language_info": {
      "codemirror_mode": {
        "name": "ipython",
        "version": 3
      },
      "file_extension": ".py",
      "mimetype": "text/x-python",
      "name": "python",
      "nbconvert_exporter": "python",
      "pygments_lexer": "ipython3",
      "version": "3.9.16"
    }
  },
  "nbformat": 4,
  "nbformat_minor": 0
}